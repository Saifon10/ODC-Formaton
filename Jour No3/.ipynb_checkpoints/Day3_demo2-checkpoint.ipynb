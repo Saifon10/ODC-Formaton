{
  "nbformat": 4,
  "nbformat_minor": 0,
  "metadata": {
    "colab": {
      "private_outputs": true,
      "provenance": []
    },
    "kernelspec": {
      "name": "python3",
      "display_name": "Python 3"
    },
    "language_info": {
      "name": "python"
    }
  },
  "cells": [
    {
      "cell_type": "markdown",
      "source": [
        "\n",
        "\n",
        "\n",
        "*Par [Abdoulaye Balde](https://www.linkedin.com/in/abdoulayegk/)*"
      ],
      "metadata": {
        "id": "u4_PhbF4hwU6"
      }
    },
    {
      "cell_type": "markdown",
      "source": [
        "\n",
        "# Jour 3:\n",
        "* Préparation des données pour le Machine Learning\n",
        "* Gérer les valeurs manquantes\n",
        "* Convertir des données catégorielles en numériques avec (dummies * variable, label encoder, one hot encoding)\n",
        "* Différencier les variable catégorielle nominale et ordinal\n",
        "* Standardisation des données\n",
        "* Exploration des données et visualisation avec matplotlib, seaborn et plotly\n",
        "\n"
      ],
      "metadata": {
        "id": "j3FHnBQweFiO"
      }
    },
    {
      "cell_type": "markdown",
      "source": [
        "Source de Donnees: [Zindi Africa Inclusion Financière en Afrique\n",
        "](https://zindi.africa/competitions/inclusion-financiere-en-afrique)"
      ],
      "metadata": {
        "id": "QndtzluoefXt"
      }
    },
    {
      "cell_type": "code",
      "execution_count": null,
      "metadata": {
        "id": "IPMUlgisdwR8"
      },
      "outputs": [],
      "source": [
        "import pandas as pd"
      ]
    },
    {
      "cell_type": "code",
      "source": [
        "train = pd.read_csv(\"/Train.csv\")"
      ],
      "metadata": {
        "id": "wiCy5813g43J"
      },
      "execution_count": null,
      "outputs": []
    },
    {
      "cell_type": "code",
      "source": [
        "train.head()"
      ],
      "metadata": {
        "id": "mKHTYR_lhDdx"
      },
      "execution_count": null,
      "outputs": []
    },
    {
      "cell_type": "code",
      "source": [
        "# distribution de la variable cible\n",
        "\n",
        "train['bank_account'].value_counts()"
      ],
      "metadata": {
        "id": "EEPRnJO4hJrX"
      },
      "execution_count": null,
      "outputs": []
    },
    {
      "cell_type": "code",
      "source": [
        "train['bank_account'].value_counts().plot(kind='bar')"
      ],
      "metadata": {
        "id": "WIKb4hRflPyb"
      },
      "execution_count": null,
      "outputs": []
    },
    {
      "cell_type": "code",
      "source": [
        "train['bank_account'] = train['bank_account'].map({'Yes':1, 'No':0})\n",
        "train.head()"
      ],
      "metadata": {
        "id": "nnSDIZ56lXNa"
      },
      "execution_count": null,
      "outputs": []
    },
    {
      "cell_type": "code",
      "source": [
        "import seaborn as sns\n",
        "import matplotlib.pyplot as plt\n"
      ],
      "metadata": {
        "id": "nqJSM_D_rIM2"
      },
      "execution_count": null,
      "outputs": []
    },
    {
      "cell_type": "code",
      "source": [
        "train['location_type'].value_counts()"
      ],
      "metadata": {
        "id": "Qh0cgK7HrKZm"
      },
      "execution_count": null,
      "outputs": []
    },
    {
      "cell_type": "code",
      "source": [
        "\n",
        "sns.countplot(x=train['location_type'], hue='bank_account', data=train)\n"
      ],
      "metadata": {
        "id": "DSWi_EwrrRq0"
      },
      "execution_count": null,
      "outputs": []
    },
    {
      "cell_type": "markdown",
      "source": [
        "On peut dire que le numbre de personne dans la zone rule son les personnes qui ne possedent pas beaucoup de compte bancaire caparativment a la zone Urban"
      ],
      "metadata": {
        "id": "cGvPzUcQzYNj"
      }
    },
    {
      "cell_type": "code",
      "source": [],
      "metadata": {
        "id": "Phbp89D_zMEe"
      },
      "execution_count": null,
      "outputs": []
    },
    {
      "cell_type": "code",
      "source": [
        "# voir la distribution de l'education en fonction de bank account\n",
        "\n",
        "sns.countplot(x=train['education_level'], hue='bank_account', data=train)\n",
        "labels = ['Secondary education', 'No formal education',\n",
        "       'Vocational/Specialised training', 'Primary education',\n",
        "       'Tertiary education', 'Other/Dont know/RTA']\n",
        "ax=plt.gca()\n",
        "ax.set_xticklabels(labels=labels, rotation=70)"
      ],
      "metadata": {
        "id": "apBS3iXZreOD"
      },
      "execution_count": null,
      "outputs": []
    },
    {
      "cell_type": "code",
      "source": [
        "train.head(3)"
      ],
      "metadata": {
        "id": "c4faWoEFyw0g"
      },
      "execution_count": null,
      "outputs": []
    },
    {
      "cell_type": "code",
      "source": [
        "train.shape"
      ],
      "metadata": {
        "id": "FLWGhezB2ErX"
      },
      "execution_count": null,
      "outputs": []
    },
    {
      "cell_type": "code",
      "source": [],
      "metadata": {
        "id": "e0wlutOH1PDX"
      },
      "execution_count": null,
      "outputs": []
    },
    {
      "cell_type": "code",
      "source": [
        "train"
      ],
      "metadata": {
        "id": "2cRz0aEA2Pd7"
      },
      "execution_count": null,
      "outputs": []
    },
    {
      "cell_type": "code",
      "source": [
        "train.drop('uniqueid', axis=1, inplace=True)"
      ],
      "metadata": {
        "id": "u17-adWK5Vdl"
      },
      "execution_count": null,
      "outputs": []
    },
    {
      "cell_type": "code",
      "source": [
        "train= pd.get_dummies(train)"
      ],
      "metadata": {
        "id": "QqUf_kK95XhU"
      },
      "execution_count": null,
      "outputs": []
    },
    {
      "cell_type": "code",
      "source": [
        "train.shape"
      ],
      "metadata": {
        "id": "jW4GHZTv5Xep"
      },
      "execution_count": null,
      "outputs": []
    },
    {
      "cell_type": "code",
      "source": [
        "train.head()"
      ],
      "metadata": {
        "id": "336Bc1yo5Xb8"
      },
      "execution_count": null,
      "outputs": []
    },
    {
      "cell_type": "code",
      "source": [
        "y = train['bank_account']"
      ],
      "metadata": {
        "id": "eEtD6etN5XYr"
      },
      "execution_count": null,
      "outputs": []
    },
    {
      "cell_type": "code",
      "source": [
        "X = train.drop('bank_account',axis=1)"
      ],
      "metadata": {
        "id": "UdUWFrZv5XUh"
      },
      "execution_count": null,
      "outputs": []
    },
    {
      "cell_type": "code",
      "source": [
        "X.head()"
      ],
      "metadata": {
        "id": "TqYAnSiQ5XRg"
      },
      "execution_count": null,
      "outputs": []
    },
    {
      "cell_type": "code",
      "source": [
        "y"
      ],
      "metadata": {
        "id": "LzzK8JZz5XGs"
      },
      "execution_count": null,
      "outputs": []
    },
    {
      "cell_type": "markdown",
      "source": [
        "Demo on how to apply get dummies sur toute la dataframe pour coder les variable objet."
      ],
      "metadata": {
        "id": "nqs83eNwWt8o"
      }
    },
    {
      "cell_type": "code",
      "source": [
        "df = pd.DataFrame({\n",
        "    'age': [10, 20, 23, 5, 20, 14],\n",
        "    'height': [5, 7, 8, 4.1, 5.4, 5.4],\n",
        "    'pet': ['dog', 'cat', 'cat', 'dog', 'cat', 'snake']\n",
        "})\n",
        "df"
      ],
      "metadata": {
        "id": "DMlY8Uzr2W2_"
      },
      "execution_count": null,
      "outputs": []
    },
    {
      "cell_type": "code",
      "source": [
        "pd.get_dummies(df)"
      ],
      "metadata": {
        "id": "zBKr2py-3Kzq"
      },
      "execution_count": null,
      "outputs": []
    },
    {
      "cell_type": "markdown",
      "source": [
        "# Selection des variables characteristique et la variable cible qui est target."
      ],
      "metadata": {
        "id": "UlsoLyECW-4Q"
      }
    },
    {
      "cell_type": "code",
      "source": [
        "X = train.drop('bank_account', axis=1)\n",
        "y = train['bank_account']"
      ],
      "metadata": {
        "id": "vdntiaH63sdI"
      },
      "execution_count": null,
      "outputs": []
    },
    {
      "cell_type": "code",
      "source": [
        "X.head()"
      ],
      "metadata": {
        "id": "XUNt4eP9XT2M"
      },
      "execution_count": null,
      "outputs": []
    },
    {
      "cell_type": "code",
      "source": [
        "y.head()"
      ],
      "metadata": {
        "id": "4BCdWgtSXVNv"
      },
      "execution_count": null,
      "outputs": []
    },
    {
      "cell_type": "markdown",
      "source": [
        "# Division de donnee et donnee d'entrainement et donnee de test\n",
        "Les donnees d'entrainement sont utiliser pour entrainer le model. <br>\n",
        "les donnees de test sont utiliser pour verifier la performance du model."
      ],
      "metadata": {
        "id": "65vECneKXb6o"
      }
    },
    {
      "cell_type": "code",
      "source": [],
      "metadata": {
        "id": "RbSRGM7AXXH4"
      },
      "execution_count": null,
      "outputs": []
    },
    {
      "cell_type": "markdown",
      "source": [],
      "metadata": {
        "id": "tOp6SRWbeDeh"
      }
    }
  ]
}