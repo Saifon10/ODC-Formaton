{
 "cells": [
  {
   "cell_type": "markdown",
   "metadata": {
    "id": "u4_PhbF4hwU6"
   },
   "source": [
    "\n",
    "\n",
    "\n",
    "*Par [Abdoulaye Balde](https://www.linkedin.com/in/abdoulayegk/)*"
   ]
  },
  {
   "cell_type": "markdown",
   "metadata": {
    "id": "j3FHnBQweFiO"
   },
   "source": [
    "\n",
    "# Jour 3:\n",
    "* Préparation des données pour le Machine Learning\n",
    "* Gérer les valeurs manquantes\n",
    "* Convertir des données catégorielles en numériques avec (dummies * variable, label encoder, one hot encoding)\n",
    "* Différencier les variable catégorielle nominale et ordinal\n",
    "* Standardisation des données\n",
    "* Exploration des données et visualisation avec matplotlib, seaborn et plotly\n",
    "\n"
   ]
  },
  {
   "cell_type": "markdown",
   "metadata": {
    "id": "QndtzluoefXt"
   },
   "source": [
    "Source de Donnees: [Zindi Africa Inclusion Financière en Afrique\n",
    "](https://zindi.africa/competitions/inclusion-financiere-en-afrique)"
   ]
  },
  {
   "cell_type": "code",
   "execution_count": null,
   "metadata": {
    "id": "IPMUlgisdwR8"
   },
   "outputs": [],
   "source": [
    "import pandas as pd"
   ]
  },
  {
   "cell_type": "code",
   "execution_count": null,
   "metadata": {
    "id": "wiCy5813g43J"
   },
   "outputs": [],
   "source": [
    "train = pd.read_csv(\"/Train.csv\")"
   ]
  },
  {
   "cell_type": "code",
   "execution_count": null,
   "metadata": {
    "id": "mKHTYR_lhDdx"
   },
   "outputs": [],
   "source": [
    "train.head()"
   ]
  },
  {
   "cell_type": "code",
   "execution_count": null,
   "metadata": {
    "id": "EEPRnJO4hJrX"
   },
   "outputs": [],
   "source": [
    "# distribution de la variable cible\n",
    "\n",
    "train['bank_account'].value_counts()"
   ]
  },
  {
   "cell_type": "code",
   "execution_count": null,
   "metadata": {
    "id": "WIKb4hRflPyb"
   },
   "outputs": [],
   "source": [
    "train['bank_account'].value_counts().plot(kind='bar')"
   ]
  },
  {
   "cell_type": "code",
   "execution_count": null,
   "metadata": {
    "id": "nnSDIZ56lXNa"
   },
   "outputs": [],
   "source": [
    "train['bank_account'] = train['bank_account'].map({'Yes':1, 'No':0})\n",
    "train.head()"
   ]
  },
  {
   "cell_type": "code",
   "execution_count": null,
   "metadata": {
    "id": "nqJSM_D_rIM2"
   },
   "outputs": [],
   "source": [
    "import seaborn as sns\n",
    "import matplotlib.pyplot as plt\n"
   ]
  },
  {
   "cell_type": "code",
   "execution_count": null,
   "metadata": {
    "id": "Qh0cgK7HrKZm"
   },
   "outputs": [],
   "source": [
    "train['location_type'].value_counts()"
   ]
  },
  {
   "cell_type": "code",
   "execution_count": null,
   "metadata": {
    "id": "DSWi_EwrrRq0"
   },
   "outputs": [],
   "source": [
    "\n",
    "sns.countplot(x=train['location_type'], hue='bank_account', data=train)\n"
   ]
  },
  {
   "cell_type": "markdown",
   "metadata": {
    "id": "cGvPzUcQzYNj"
   },
   "source": [
    "On peut dire que le numbre de personne dans la zone rule son les personnes qui ne possedent pas beaucoup de compte bancaire caparativment a la zone Urban"
   ]
  },
  {
   "cell_type": "code",
   "execution_count": null,
   "metadata": {
    "id": "Phbp89D_zMEe"
   },
   "outputs": [],
   "source": []
  },
  {
   "cell_type": "code",
   "execution_count": null,
   "metadata": {
    "id": "apBS3iXZreOD"
   },
   "outputs": [],
   "source": [
    "# voir la distribution de l'education en fonction de bank account\n",
    "\n",
    "sns.countplot(x=train['education_level'], hue='bank_account', data=train)\n",
    "labels = ['Secondary education', 'No formal education',\n",
    "       'Vocational/Specialised training', 'Primary education',\n",
    "       'Tertiary education', 'Other/Dont know/RTA']\n",
    "ax=plt.gca()\n",
    "ax.set_xticklabels(labels=labels, rotation=70)"
   ]
  },
  {
   "cell_type": "code",
   "execution_count": null,
   "metadata": {
    "id": "c4faWoEFyw0g"
   },
   "outputs": [],
   "source": [
    "train.head(3)"
   ]
  },
  {
   "cell_type": "code",
   "execution_count": null,
   "metadata": {
    "id": "FLWGhezB2ErX"
   },
   "outputs": [],
   "source": [
    "train.shape"
   ]
  },
  {
   "cell_type": "code",
   "execution_count": null,
   "metadata": {
    "id": "e0wlutOH1PDX"
   },
   "outputs": [],
   "source": []
  },
  {
   "cell_type": "code",
   "execution_count": null,
   "metadata": {
    "id": "2cRz0aEA2Pd7"
   },
   "outputs": [],
   "source": [
    "train"
   ]
  },
  {
   "cell_type": "code",
   "execution_count": null,
   "metadata": {
    "id": "u17-adWK5Vdl"
   },
   "outputs": [],
   "source": [
    "train.drop('uniqueid', axis=1, inplace=True)"
   ]
  },
  {
   "cell_type": "code",
   "execution_count": null,
   "metadata": {
    "id": "QqUf_kK95XhU"
   },
   "outputs": [],
   "source": [
    "train= pd.get_dummies(train)"
   ]
  },
  {
   "cell_type": "code",
   "execution_count": null,
   "metadata": {
    "id": "jW4GHZTv5Xep"
   },
   "outputs": [],
   "source": [
    "train.shape"
   ]
  },
  {
   "cell_type": "code",
   "execution_count": null,
   "metadata": {
    "id": "336Bc1yo5Xb8"
   },
   "outputs": [],
   "source": [
    "train.head()"
   ]
  },
  {
   "cell_type": "code",
   "execution_count": null,
   "metadata": {
    "id": "eEtD6etN5XYr"
   },
   "outputs": [],
   "source": [
    "y = train['bank_account']"
   ]
  },
  {
   "cell_type": "code",
   "execution_count": null,
   "metadata": {
    "id": "UdUWFrZv5XUh"
   },
   "outputs": [],
   "source": [
    "X = train.drop('bank_account',axis=1)"
   ]
  },
  {
   "cell_type": "code",
   "execution_count": null,
   "metadata": {
    "id": "TqYAnSiQ5XRg"
   },
   "outputs": [],
   "source": [
    "X.head()"
   ]
  },
  {
   "cell_type": "code",
   "execution_count": null,
   "metadata": {
    "id": "LzzK8JZz5XGs"
   },
   "outputs": [],
   "source": [
    "y"
   ]
  },
  {
   "cell_type": "markdown",
   "metadata": {
    "id": "nqs83eNwWt8o"
   },
   "source": [
    "Demo on how to apply get dummies sur toute la dataframe pour coder les variable objet."
   ]
  },
  {
   "cell_type": "code",
   "execution_count": null,
   "metadata": {
    "id": "DMlY8Uzr2W2_"
   },
   "outputs": [],
   "source": [
    "df = pd.DataFrame({\n",
    "    'age': [10, 20, 23, 5, 20, 14],\n",
    "    'height': [5, 7, 8, 4.1, 5.4, 5.4],\n",
    "    'pet': ['dog', 'cat', 'cat', 'dog', 'cat', 'snake']\n",
    "})\n",
    "df"
   ]
  },
  {
   "cell_type": "code",
   "execution_count": null,
   "metadata": {
    "id": "zBKr2py-3Kzq"
   },
   "outputs": [],
   "source": [
    "pd.get_dummies(df)"
   ]
  },
  {
   "cell_type": "markdown",
   "metadata": {
    "id": "UlsoLyECW-4Q"
   },
   "source": [
    "# Selection des variables characteristique et la variable cible qui est target."
   ]
  },
  {
   "cell_type": "code",
   "execution_count": null,
   "metadata": {
    "id": "vdntiaH63sdI"
   },
   "outputs": [],
   "source": [
    "X = train.drop('bank_account', axis=1)\n",
    "y = train['bank_account']"
   ]
  },
  {
   "cell_type": "code",
   "execution_count": null,
   "metadata": {
    "id": "XUNt4eP9XT2M"
   },
   "outputs": [],
   "source": [
    "X.head()"
   ]
  },
  {
   "cell_type": "code",
   "execution_count": null,
   "metadata": {
    "id": "4BCdWgtSXVNv"
   },
   "outputs": [],
   "source": [
    "y.head()"
   ]
  },
  {
   "cell_type": "markdown",
   "metadata": {
    "id": "65vECneKXb6o"
   },
   "source": [
    "# Division de donnee et donnee d'entrainement et donnee de test\n",
    "Les donnees d'entrainement sont utiliser pour entrainer le model. <br>\n",
    "les donnees de test sont utiliser pour verifier la performance du model."
   ]
  },
  {
   "cell_type": "code",
   "execution_count": null,
   "metadata": {
    "id": "RbSRGM7AXXH4"
   },
   "outputs": [],
   "source": []
  },
  {
   "cell_type": "markdown",
   "metadata": {
    "id": "tOp6SRWbeDeh"
   },
   "source": []
  }
 ],
 "metadata": {
  "colab": {
   "private_outputs": true,
   "provenance": []
  },
  "kernelspec": {
   "display_name": "Python 3 (ipykernel)",
   "language": "python",
   "name": "python3"
  },
  "language_info": {
   "codemirror_mode": {
    "name": "ipython",
    "version": 3
   },
   "file_extension": ".py",
   "mimetype": "text/x-python",
   "name": "python",
   "nbconvert_exporter": "python",
   "pygments_lexer": "ipython3",
   "version": "3.9.16"
  }
 },
 "nbformat": 4,
 "nbformat_minor": 4
}
