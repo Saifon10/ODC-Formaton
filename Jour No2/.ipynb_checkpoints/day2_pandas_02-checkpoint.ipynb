{
 "cells": [
  {
   "cell_type": "markdown",
   "metadata": {},
   "source": [
    "# Jour 2: \n",
    "\n",
    "## Introduction au différents libraries de python\n",
    "* Introduction à l'apprentissage automatique\n",
    "* Différence entre l'apprentissage supervisé et non supervisé\n",
    "    * classification\n",
    "    * Régression\n",
    "* Introduction à la librairie numpy\n",
    "* Introduction au bibliothèque Pandas ( création de data frame, series, lire des fichier, indexation, visualisation, etc)\n"
   ]
  },
  {
   "cell_type": "markdown",
   "metadata": {
    "colab_type": "text",
    "id": "_jbCEsGScLU1"
   },
   "source": [
    "\n",
    "\n",
    "*Par [Abdoulaye Balde](https://www.linkedin.com/in/abdoulayegk)*"
   ]
  },
  {
   "cell_type": "markdown",
   "metadata": {
    "colab_type": "text",
    "id": "OsvdczdKsq70"
   },
   "source": [
    "# **Initiation au concept de Dataframe**"
   ]
  },
  {
   "cell_type": "markdown",
   "metadata": {
    "colab_type": "text",
    "id": "HZ20oPJBs3nJ"
   },
   "source": [
    "La dataframe est la principale structure de données de la librairie [Pandas](https://pypi.org/project/pandas/). Dans une dataframe, les données se présentent sous formes de tableau (lignes et colonnes). Plus précisement, dans une dataframe on parle d'observations (pour désigner les lignes) et de variables (pour désigner les colonnes).     \n",
    "[Wes Mckinney](https://wesmckinney.com/), créateur de la librairie Pandas.\n",
    "\n",
    "On peut créer une dataframe pandas à partir d'un dictionnaire :\n",
    "\n",
    "1.   Importer la librairie pandas (*import pandas as pd*)\n",
    "2.   Création du dictionnaire s'il n'existe pas encore\n",
    "3.   Transformation du dictionnaire en dataframe :          \n",
    "*df = pd.DataFrame(dictionnaire)*\n",
    "\n",
    "***Exercice :***\n",
    "\n",
    "Créer un dictionnaire pour stocker les notes par 4 élèves en Maths et Français. Transformez ce dictionnaire en Dataframe.        \n",
    "Transposez la dataframe créée (lignes en colonnes puis colonnes en lignes) et renommez les colonnes.          \n",
    "Ryan (18 , 16) ; Elisa (20 , 12), Martine (20, 20), Robert (14, 15). La première note est celle obtenue en Maths et la deuxième est pour le Français."
   ]
  },
  {
   "cell_type": "code",
   "execution_count": 1,
   "metadata": {
    "colab": {
     "base_uri": "https://localhost:8080/",
     "height": 35
    },
    "colab_type": "code",
    "id": "NgmPvLHdqwoM",
    "outputId": "83711b8c-b181-4957-cfc6-b221f0dee332"
   },
   "outputs": [
    {
     "data": {
      "text/plain": [
       "{'Oumar': [18, 16], 'Alpha': [20, 12], 'Ahmad': [20, 20], 'Ousmane': [14, 15]}"
      ]
     },
     "execution_count": 1,
     "metadata": {},
     "output_type": "execute_result"
    }
   ],
   "source": [
    "# Création du dictionnaire notes\n",
    "\n",
    "notes = {'Oumar':[18, 16], \n",
    "         'Alpha':[20, 12], \n",
    "         'Ahmad':[20, 20], \n",
    "         'Ousmane':[14, 15]}\n",
    "notes"
   ]
  },
  {
   "cell_type": "code",
   "execution_count": 2,
   "metadata": {},
   "outputs": [
    {
     "data": {
      "text/plain": [
       "{'chien': 'Dog', 'Chat': 'Cat', 'Guinee': 'Guinea'}"
      ]
     },
     "execution_count": 2,
     "metadata": {},
     "output_type": "execute_result"
    }
   ],
   "source": [
    "traduction = {\"chien\": \"Dog\", \"Chat\": \"Cat\", \"Guinee\": \"Guinea\"}\n",
    "traduction"
   ]
  },
  {
   "cell_type": "markdown",
   "metadata": {},
   "source": [
    "# Series in Pandas"
   ]
  },
  {
   "cell_type": "code",
   "execution_count": 3,
   "metadata": {},
   "outputs": [],
   "source": [
    "# we first import series from pandas\n",
    "from pandas import Series"
   ]
  },
  {
   "cell_type": "code",
   "execution_count": 4,
   "metadata": {},
   "outputs": [
    {
     "data": {
      "text/plain": [
       "0    20\n",
       "1    20\n",
       "2    30\n",
       "3    40\n",
       "dtype: int64"
      ]
     },
     "execution_count": 4,
     "metadata": {},
     "output_type": "execute_result"
    }
   ],
   "source": [
    "# let's first creat a serie\n",
    "mylist = [20, 20, 30, 40]\n",
    "\n",
    "s = Series(mylist)\n",
    "s"
   ]
  },
  {
   "cell_type": "code",
   "execution_count": 5,
   "metadata": {},
   "outputs": [
    {
     "data": {
      "text/plain": [
       "a    12\n",
       "b    13\n",
       "c     7\n",
       "d    80\n",
       "e    95\n",
       "dtype: int64"
      ]
     },
     "execution_count": 5,
     "metadata": {},
     "output_type": "execute_result"
    }
   ],
   "source": [
    "# you can also et your own index because the default index start from 0 till n\n",
    "ss = Series(\n",
    "    [12, 13, 7, 80, 95], index=list(\"abcde\")\n",
    ")  # not we can use index=['a','b',..]\n",
    "ss\n",
    "\n",
    "\n",
    "# # you can also change the datatype to float or unsigned int\n",
    "# Series(\n",
    "#     [20.5, 12, 34, 56, 100],\n",
    "#     index=[\"a\", \"b\", \"c\", \"d\", \"e\"],\n",
    "# )\n"
   ]
  },
  {
   "cell_type": "code",
   "execution_count": 6,
   "metadata": {},
   "outputs": [
    {
     "data": {
      "text/plain": [
       "a    12\n",
       "b    13\n",
       "c     7\n",
       "d    80\n",
       "e    95\n",
       "dtype: int8"
      ]
     },
     "execution_count": 6,
     "metadata": {},
     "output_type": "execute_result"
    }
   ],
   "source": [
    "# On peux changer les type de donne par defaut c'est None\n",
    "s1 = Series([12, 13, 7, 80, 95], index=list(\"abcde\"), dtype=\"int8\")\n",
    "s1\n"
   ]
  },
  {
   "cell_type": "code",
   "execution_count": 7,
   "metadata": {},
   "outputs": [
    {
     "data": {
      "text/plain": [
       "10     5\n",
       "11     3\n",
       "12     7\n",
       "13     8\n",
       "14    19\n",
       "dtype: int64"
      ]
     },
     "execution_count": 7,
     "metadata": {},
     "output_type": "execute_result"
    }
   ],
   "source": [
    "# we can use index of integer of our choice for that we use the range function\n",
    "ex1 = Series([5, 3, 7, 8, 19], index=range(10, 15))\n",
    "ex1"
   ]
  },
  {
   "cell_type": "markdown",
   "metadata": {},
   "source": [
    "# Sclicing series"
   ]
  },
  {
   "cell_type": "code",
   "execution_count": 8,
   "metadata": {},
   "outputs": [
    {
     "data": {
      "text/plain": [
       "5"
      ]
     },
     "execution_count": 8,
     "metadata": {},
     "output_type": "execute_result"
    }
   ],
   "source": [
    "# using the above example we want to get the value at index 10 we can do following\n",
    "ex1[10]  # output should be 5"
   ]
  },
  {
   "cell_type": "code",
   "execution_count": 9,
   "metadata": {},
   "outputs": [
    {
     "data": {
      "text/plain": [
       "a     12\n",
       "b     13\n",
       "c      7\n",
       "d     80\n",
       "e     95\n",
       "f    200\n",
       "dtype: int64"
      ]
     },
     "execution_count": 9,
     "metadata": {},
     "output_type": "execute_result"
    }
   ],
   "source": [
    "# you can also add element to your series. Let's say I want to add 200 in ss\n",
    "ss[\"f\"] = 200\n",
    "ss"
   ]
  },
  {
   "cell_type": "code",
   "execution_count": 10,
   "metadata": {},
   "outputs": [
    {
     "data": {
      "text/plain": [
       "a    False\n",
       "b     True\n",
       "c    False\n",
       "d     True\n",
       "e     True\n",
       "f     True\n",
       "dtype: bool"
      ]
     },
     "execution_count": 10,
     "metadata": {},
     "output_type": "execute_result"
    }
   ],
   "source": [
    "# use can use comparaison operatiors on series\n",
    "ss > 12\n",
    "\n",
    "\n",
    "# # To make look nice and more readable this will return a series of integer\n",
    "# ss[ss < 13]"
   ]
  },
  {
   "cell_type": "code",
   "execution_count": 11,
   "metadata": {},
   "outputs": [],
   "source": [
    "# What will be difference between the following two lines(list and array)\n",
    "\n",
    "# l = [12, 13, 7, 80, 95] * 2\n",
    "# print(l)\n",
    "# print(\"\\n\\n\")\n",
    "\n",
    "# print(ss * 2)"
   ]
  },
  {
   "cell_type": "markdown",
   "metadata": {},
   "source": [
    "# Indexing in pandas¶\n",
    "\n",
    "L'opérateur d'indexation et la sélection d'attributs sont agréables car ils fonctionnent comme ils le font dans le reste de l'écosystème Python. En tant que novice, cela les rend faciles à prendre en main et à utiliser. Cependant, pandas a ses propres opérateurs d'accès, **loc et iloc**. Pour les opérations plus avancées, ce sont celles que vous êtes censé utiliser.\n",
    "\n"
   ]
  },
  {
   "cell_type": "markdown",
   "metadata": {},
   "source": [
    "# Sélection basée sur l'index(loc and iloc)\n",
    "L'indexation Pandas fonctionne dans l'un des deux paradigmes. \n",
    "* La première est la sélection basée sur l'index : sélectionner des données en fonction de leur position numérique dans les données. iloc suit ce paradigme.\n",
    "\n",
    "Pour sélectionner la première ligne de données dans un DataFrame, nous pouvons utiliser ce qui suit :"
   ]
  },
  {
   "cell_type": "code",
   "execution_count": 12,
   "metadata": {},
   "outputs": [
    {
     "data": {
      "text/plain": [
       "a     12\n",
       "b     13\n",
       "c      7\n",
       "d     80\n",
       "e     95\n",
       "f    200\n",
       "dtype: int64"
      ]
     },
     "execution_count": 12,
     "metadata": {},
     "output_type": "execute_result"
    }
   ],
   "source": [
    "ss"
   ]
  },
  {
   "cell_type": "code",
   "execution_count": 13,
   "metadata": {},
   "outputs": [
    {
     "data": {
      "text/plain": [
       "12"
      ]
     },
     "execution_count": 13,
     "metadata": {},
     "output_type": "execute_result"
    }
   ],
   "source": [
    "ss.iloc[0]"
   ]
  },
  {
   "cell_type": "code",
   "execution_count": 14,
   "metadata": {},
   "outputs": [
    {
     "data": {
      "text/plain": [
       "7"
      ]
     },
     "execution_count": 14,
     "metadata": {},
     "output_type": "execute_result"
    }
   ],
   "source": [
    "ss.loc['c']"
   ]
  },
  {
   "cell_type": "code",
   "execution_count": null,
   "metadata": {},
   "outputs": [],
   "source": []
  },
  {
   "cell_type": "code",
   "execution_count": 20,
   "metadata": {
    "colab": {
     "base_uri": "https://localhost:8080/",
     "height": 112
    },
    "colab_type": "code",
    "id": "SFJkFiAq2hDY",
    "outputId": "5dc1d2cd-2cb7-489f-9527-b353e7beb023"
   },
   "outputs": [
    {
     "data": {
      "text/html": [
       "<div>\n",
       "<style scoped>\n",
       "    .dataframe tbody tr th:only-of-type {\n",
       "        vertical-align: middle;\n",
       "    }\n",
       "\n",
       "    .dataframe tbody tr th {\n",
       "        vertical-align: top;\n",
       "    }\n",
       "\n",
       "    .dataframe thead th {\n",
       "        text-align: right;\n",
       "    }\n",
       "</style>\n",
       "<table border=\"1\" class=\"dataframe\">\n",
       "  <thead>\n",
       "    <tr style=\"text-align: right;\">\n",
       "      <th></th>\n",
       "      <th>Oumar</th>\n",
       "      <th>Alpha</th>\n",
       "      <th>Ahmad</th>\n",
       "      <th>Ousmane</th>\n",
       "    </tr>\n",
       "  </thead>\n",
       "  <tbody>\n",
       "    <tr>\n",
       "      <th>0</th>\n",
       "      <td>18</td>\n",
       "      <td>20</td>\n",
       "      <td>20</td>\n",
       "      <td>14</td>\n",
       "    </tr>\n",
       "    <tr>\n",
       "      <th>1</th>\n",
       "      <td>16</td>\n",
       "      <td>12</td>\n",
       "      <td>20</td>\n",
       "      <td>15</td>\n",
       "    </tr>\n",
       "  </tbody>\n",
       "</table>\n",
       "</div>"
      ],
      "text/plain": [
       "   Oumar  Alpha  Ahmad  Ousmane\n",
       "0     18     20     20       14\n",
       "1     16     12     20       15"
      ]
     },
     "execution_count": 20,
     "metadata": {},
     "output_type": "execute_result"
    }
   ],
   "source": [
    "# Transformation du dictionnaire notes en dataframe\n",
    "import pandas as pd\n",
    "df = pd.DataFrame(notes)\n",
    "df"
   ]
  },
  {
   "cell_type": "code",
   "execution_count": 21,
   "metadata": {
    "colab": {
     "base_uri": "https://localhost:8080/",
     "height": 175
    },
    "colab_type": "code",
    "id": "DScEWBwe21NZ",
    "outputId": "6d6bb890-8b5a-484d-824b-d345e3ddf73a"
   },
   "outputs": [
    {
     "data": {
      "text/html": [
       "<div>\n",
       "<style scoped>\n",
       "    .dataframe tbody tr th:only-of-type {\n",
       "        vertical-align: middle;\n",
       "    }\n",
       "\n",
       "    .dataframe tbody tr th {\n",
       "        vertical-align: top;\n",
       "    }\n",
       "\n",
       "    .dataframe thead th {\n",
       "        text-align: right;\n",
       "    }\n",
       "</style>\n",
       "<table border=\"1\" class=\"dataframe\">\n",
       "  <thead>\n",
       "    <tr style=\"text-align: right;\">\n",
       "      <th></th>\n",
       "      <th>0</th>\n",
       "      <th>1</th>\n",
       "    </tr>\n",
       "  </thead>\n",
       "  <tbody>\n",
       "    <tr>\n",
       "      <th>Oumar</th>\n",
       "      <td>18</td>\n",
       "      <td>16</td>\n",
       "    </tr>\n",
       "    <tr>\n",
       "      <th>Alpha</th>\n",
       "      <td>20</td>\n",
       "      <td>12</td>\n",
       "    </tr>\n",
       "    <tr>\n",
       "      <th>Ahmad</th>\n",
       "      <td>20</td>\n",
       "      <td>20</td>\n",
       "    </tr>\n",
       "    <tr>\n",
       "      <th>Ousmane</th>\n",
       "      <td>14</td>\n",
       "      <td>15</td>\n",
       "    </tr>\n",
       "  </tbody>\n",
       "</table>\n",
       "</div>"
      ],
      "text/plain": [
       "          0   1\n",
       "Oumar    18  16\n",
       "Alpha    20  12\n",
       "Ahmad    20  20\n",
       "Ousmane  14  15"
      ]
     },
     "execution_count": 21,
     "metadata": {},
     "output_type": "execute_result"
    }
   ],
   "source": [
    "# Transposition de la dataframe df\n",
    "df = df.T\n",
    "df"
   ]
  },
  {
   "cell_type": "code",
   "execution_count": 22,
   "metadata": {
    "colab": {
     "base_uri": "https://localhost:8080/",
     "height": 175
    },
    "colab_type": "code",
    "id": "Urv7RmRH3J8m",
    "outputId": "41b059c3-f6f4-471a-94d1-dca4ba23320e"
   },
   "outputs": [
    {
     "data": {
      "text/html": [
       "<div>\n",
       "<style scoped>\n",
       "    .dataframe tbody tr th:only-of-type {\n",
       "        vertical-align: middle;\n",
       "    }\n",
       "\n",
       "    .dataframe tbody tr th {\n",
       "        vertical-align: top;\n",
       "    }\n",
       "\n",
       "    .dataframe thead th {\n",
       "        text-align: right;\n",
       "    }\n",
       "</style>\n",
       "<table border=\"1\" class=\"dataframe\">\n",
       "  <thead>\n",
       "    <tr style=\"text-align: right;\">\n",
       "      <th></th>\n",
       "      <th>Maths</th>\n",
       "      <th>Français</th>\n",
       "    </tr>\n",
       "  </thead>\n",
       "  <tbody>\n",
       "    <tr>\n",
       "      <th>Oumar</th>\n",
       "      <td>18</td>\n",
       "      <td>16</td>\n",
       "    </tr>\n",
       "    <tr>\n",
       "      <th>Alpha</th>\n",
       "      <td>20</td>\n",
       "      <td>12</td>\n",
       "    </tr>\n",
       "    <tr>\n",
       "      <th>Ahmad</th>\n",
       "      <td>20</td>\n",
       "      <td>20</td>\n",
       "    </tr>\n",
       "    <tr>\n",
       "      <th>Ousmane</th>\n",
       "      <td>14</td>\n",
       "      <td>15</td>\n",
       "    </tr>\n",
       "  </tbody>\n",
       "</table>\n",
       "</div>"
      ],
      "text/plain": [
       "         Maths  Français\n",
       "Oumar       18        16\n",
       "Alpha       20        12\n",
       "Ahmad       20        20\n",
       "Ousmane     14        15"
      ]
     },
     "execution_count": 22,
     "metadata": {},
     "output_type": "execute_result"
    }
   ],
   "source": [
    "# Renommer les colonnes\n",
    "df.columns = ['Maths', 'Français']\n",
    "df"
   ]
  },
  {
   "cell_type": "code",
   "execution_count": 23,
   "metadata": {
    "colab": {
     "base_uri": "https://localhost:8080/",
     "height": 35
    },
    "colab_type": "code",
    "id": "onPTVMcC3k8_",
    "outputId": "2ed68837-cc26-4025-ae59-c868823c4844"
   },
   "outputs": [
    {
     "data": {
      "text/plain": [
       "Index(['Oumar', 'Alpha', 'Ahmad', 'Ousmane'], dtype='object')"
      ]
     },
     "execution_count": 23,
     "metadata": {},
     "output_type": "execute_result"
    }
   ],
   "source": [
    "# Indexes de df\n",
    "df.index"
   ]
  },
  {
   "cell_type": "markdown",
   "metadata": {
    "colab_type": "text",
    "id": "50XtwS3700Uc"
   },
   "source": [
    "Cette petite section sur les dataframes Pandas est une introduction à Pandas. Pandas et Numpy sont des librairies fondamentales en Data Science. Il y aura donc deux grandes sections consacrées exclusivement à ces deux librairies."
   ]
  },
  {
   "cell_type": "code",
   "execution_count": 25,
   "metadata": {},
   "outputs": [
    {
     "data": {
      "text/html": [
       "<div>\n",
       "<style scoped>\n",
       "    .dataframe tbody tr th:only-of-type {\n",
       "        vertical-align: middle;\n",
       "    }\n",
       "\n",
       "    .dataframe tbody tr th {\n",
       "        vertical-align: top;\n",
       "    }\n",
       "\n",
       "    .dataframe thead th {\n",
       "        text-align: right;\n",
       "    }\n",
       "</style>\n",
       "<table border=\"1\" class=\"dataframe\">\n",
       "  <thead>\n",
       "    <tr style=\"text-align: right;\">\n",
       "      <th></th>\n",
       "      <th>capital</th>\n",
       "      <th>year</th>\n",
       "      <th>pop</th>\n",
       "    </tr>\n",
       "  </thead>\n",
       "  <tbody>\n",
       "    <tr>\n",
       "      <th>0</th>\n",
       "      <td>Delhi</td>\n",
       "      <td>2001</td>\n",
       "      <td>2.45</td>\n",
       "    </tr>\n",
       "    <tr>\n",
       "      <th>1</th>\n",
       "      <td>Dakar</td>\n",
       "      <td>2004</td>\n",
       "      <td>2.99</td>\n",
       "    </tr>\n",
       "    <tr>\n",
       "      <th>2</th>\n",
       "      <td>Bamako</td>\n",
       "      <td>2007</td>\n",
       "      <td>3.01</td>\n",
       "    </tr>\n",
       "    <tr>\n",
       "      <th>3</th>\n",
       "      <td>Paris</td>\n",
       "      <td>2010</td>\n",
       "      <td>3.50</td>\n",
       "    </tr>\n",
       "    <tr>\n",
       "      <th>4</th>\n",
       "      <td>Accra</td>\n",
       "      <td>2015</td>\n",
       "      <td>4.24</td>\n",
       "    </tr>\n",
       "    <tr>\n",
       "      <th>5</th>\n",
       "      <td>Conakry</td>\n",
       "      <td>2001</td>\n",
       "      <td>2.47</td>\n",
       "    </tr>\n",
       "    <tr>\n",
       "      <th>6</th>\n",
       "      <td>Ottawa</td>\n",
       "      <td>2005</td>\n",
       "      <td>2.73</td>\n",
       "    </tr>\n",
       "    <tr>\n",
       "      <th>7</th>\n",
       "      <td>Lome</td>\n",
       "      <td>2008</td>\n",
       "      <td>2.85</td>\n",
       "    </tr>\n",
       "    <tr>\n",
       "      <th>8</th>\n",
       "      <td>Yamoussokro</td>\n",
       "      <td>2011</td>\n",
       "      <td>2.99</td>\n",
       "    </tr>\n",
       "    <tr>\n",
       "      <th>9</th>\n",
       "      <td>Freetown</td>\n",
       "      <td>2019</td>\n",
       "      <td>3.11</td>\n",
       "    </tr>\n",
       "    <tr>\n",
       "      <th>10</th>\n",
       "      <td>Raba</td>\n",
       "      <td>2001</td>\n",
       "      <td>2.11</td>\n",
       "    </tr>\n",
       "    <tr>\n",
       "      <th>11</th>\n",
       "      <td>Berlin</td>\n",
       "      <td>2003</td>\n",
       "      <td>3.00</td>\n",
       "    </tr>\n",
       "    <tr>\n",
       "      <th>12</th>\n",
       "      <td>Genever</td>\n",
       "      <td>2007</td>\n",
       "      <td>3.67</td>\n",
       "    </tr>\n",
       "    <tr>\n",
       "      <th>13</th>\n",
       "      <td>washington</td>\n",
       "      <td>2009</td>\n",
       "      <td>3.73</td>\n",
       "    </tr>\n",
       "    <tr>\n",
       "      <th>14</th>\n",
       "      <td>washington</td>\n",
       "      <td>2017</td>\n",
       "      <td>3.97</td>\n",
       "    </tr>\n",
       "  </tbody>\n",
       "</table>\n",
       "</div>"
      ],
      "text/plain": [
       "        capital  year   pop\n",
       "0         Delhi  2001  2.45\n",
       "1         Dakar  2004  2.99\n",
       "2        Bamako  2007  3.01\n",
       "3         Paris  2010  3.50\n",
       "4         Accra  2015  4.24\n",
       "5       Conakry  2001  2.47\n",
       "6        Ottawa  2005  2.73\n",
       "7          Lome  2008  2.85\n",
       "8   Yamoussokro  2011  2.99\n",
       "9      Freetown  2019  3.11\n",
       "10         Raba  2001  2.11\n",
       "11       Berlin  2003  3.00\n",
       "12      Genever  2007  3.67\n",
       "13   washington  2009  3.73\n",
       "14   washington  2017  3.97"
      ]
     },
     "execution_count": 25,
     "metadata": {},
     "output_type": "execute_result"
    }
   ],
   "source": [
    "from pandas import DataFrame\n",
    "data = {\n",
    "    \"capital\": [\n",
    "        \"Delhi\",\n",
    "        \"Dakar\",\n",
    "        \"Bamako\",\n",
    "        \"Paris\",\n",
    "        \"Accra\",\n",
    "        \"Conakry\",\n",
    "        \"Ottawa\",\n",
    "        \"Lome\",\n",
    "        \"Yamoussokro\",\n",
    "        \"Freetown\",\n",
    "        \"Raba\",\n",
    "        \"Berlin\",\n",
    "        \"Genever\",\n",
    "        \"washington\",\n",
    "        \"washington\",\n",
    "    ],\n",
    "    \"year\": [\n",
    "        2001,\n",
    "        2004,\n",
    "        2007,\n",
    "        2010,\n",
    "        2015,\n",
    "        2001,\n",
    "        2005,\n",
    "        2008,\n",
    "        2011,\n",
    "        2019,\n",
    "        2001,\n",
    "        2003,\n",
    "        2007,\n",
    "        2009,\n",
    "        2017,\n",
    "    ],\n",
    "    \"pop\": [\n",
    "        2.45,\n",
    "        2.99,\n",
    "        3.01,\n",
    "        3.50,\n",
    "        4.24,\n",
    "        2.47,\n",
    "        2.73,\n",
    "        2.85,\n",
    "        2.99,\n",
    "        3.11,\n",
    "        2.11,\n",
    "        3.00,\n",
    "        3.67,\n",
    "        3.73,\n",
    "        3.97,\n",
    "    ],\n",
    "}\n",
    "\n",
    "df = DataFrame(data)\n",
    "df"
   ]
  },
  {
   "cell_type": "code",
   "execution_count": 27,
   "metadata": {},
   "outputs": [],
   "source": [
    "# work more on this dataframe"
   ]
  },
  {
   "cell_type": "code",
   "execution_count": 28,
   "metadata": {},
   "outputs": [],
   "source": [
    "# Exo get a new dataframe that contain only year greater or equal to 2005\n"
   ]
  },
  {
   "cell_type": "code",
   "execution_count": null,
   "metadata": {},
   "outputs": [],
   "source": []
  }
 ],
 "metadata": {
  "colab": {
   "collapsed_sections": [],
   "name": "7_Programmation_Python_Partie_3.ipynb",
   "provenance": []
  },
  "kernelspec": {
   "display_name": "Python 3 (ipykernel)",
   "language": "python",
   "name": "python3"
  },
  "language_info": {
   "codemirror_mode": {
    "name": "ipython",
    "version": 3
   },
   "file_extension": ".py",
   "mimetype": "text/x-python",
   "name": "python",
   "nbconvert_exporter": "python",
   "pygments_lexer": "ipython3",
   "version": "3.9.16"
  }
 },
 "nbformat": 4,
 "nbformat_minor": 4
}
