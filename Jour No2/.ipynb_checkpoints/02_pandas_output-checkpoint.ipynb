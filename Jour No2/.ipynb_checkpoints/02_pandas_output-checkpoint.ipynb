{
  "cells": [
    {
      "cell_type": "markdown",
      "id": "c36ae6e9-6233-4950-a3b1-41fce70fec83",
      "metadata": {
        "tags": [],
        "id": "c36ae6e9-6233-4950-a3b1-41fce70fec83"
      },
      "source": [
        "# Pandas output\n",
        "\n",
        "In this notebook, we review the Pandas output API from scikit-learn v1.2.\n",
        "\n",
        "<a href=\"https://colab.research.google.com/github/thomasjpfan/ml-workshop-intermediate-v2/blob/main/notebooks/01-pandas-output.ipynb\"><img src=\"https://colab.research.google.com/assets/colab-badge.svg\" alt=\"Open in Colab\" title=\"Open and Execute in Google Colaboratory\"></a>"
      ]
    },
    {
      "cell_type": "code",
      "execution_count": 1,
      "id": "5d4ca972-cb90-499c-b412-23af1f656b47",
      "metadata": {
        "tags": [],
        "id": "5d4ca972-cb90-499c-b412-23af1f656b47"
      },
      "outputs": [],
      "source": [
        "import sklearn\n",
        "assert sklearn.__version__.startswith(\"1.2\"), \"Please install scikit-learn 1.2\""
      ]
    },
    {
      "cell_type": "markdown",
      "id": "71c83328-28e9-4842-8c6e-11541e1cecbc",
      "metadata": {
        "id": "71c83328-28e9-4842-8c6e-11541e1cecbc"
      },
      "source": [
        "## Loading wine dataset"
      ]
    },
    {
      "cell_type": "code",
      "execution_count": 2,
      "id": "b2a2ee49-76c2-4fa9-bd18-a3ecbd4492f9",
      "metadata": {
        "tags": [],
        "id": "b2a2ee49-76c2-4fa9-bd18-a3ecbd4492f9"
      },
      "outputs": [],
      "source": [
        "from sklearn.datasets import load_wine\n",
        "from sklearn.model_selection import train_test_split"
      ]
    },
    {
      "cell_type": "code",
      "execution_count": 3,
      "id": "f4226915-e700-4665-a594-6bbfa57aaa78",
      "metadata": {
        "tags": [],
        "id": "f4226915-e700-4665-a594-6bbfa57aaa78"
      },
      "outputs": [],
      "source": [
        "wine = load_wine(as_frame=True)\n",
        "X, y = wine.data, wine.target"
      ]
    },
    {
      "cell_type": "code",
      "execution_count": 4,
      "id": "929ead00-4e2b-4a28-a262-12c9118a1765",
      "metadata": {
        "tags": [],
        "id": "929ead00-4e2b-4a28-a262-12c9118a1765",
        "outputId": "26746ea8-02b9-4170-faca-72a8728f98e0",
        "colab": {
          "base_uri": "https://localhost:8080/"
        }
      },
      "outputs": [
        {
          "output_type": "execute_result",
          "data": {
            "text/plain": [
              "0      0\n",
              "1      0\n",
              "2      0\n",
              "3      0\n",
              "4      0\n",
              "      ..\n",
              "173    2\n",
              "174    2\n",
              "175    2\n",
              "176    2\n",
              "177    2\n",
              "Name: target, Length: 178, dtype: int64"
            ]
          },
          "metadata": {},
          "execution_count": 4
        }
      ],
      "source": [
        "y"
      ]
    },
    {
      "cell_type": "code",
      "source": [
        "X"
      ],
      "metadata": {
        "id": "lNBTyEYXmTKP",
        "outputId": "9d432442-bc19-4cc2-93bd-5fb706426fa3",
        "colab": {
          "base_uri": "https://localhost:8080/",
          "height": 487
        }
      },
      "id": "lNBTyEYXmTKP",
      "execution_count": 5,
      "outputs": [
        {
          "output_type": "execute_result",
          "data": {
            "text/plain": [
              "     alcohol  malic_acid   ash  alcalinity_of_ash  magnesium  total_phenols  \\\n",
              "0      14.23        1.71  2.43               15.6      127.0           2.80   \n",
              "1      13.20        1.78  2.14               11.2      100.0           2.65   \n",
              "2      13.16        2.36  2.67               18.6      101.0           2.80   \n",
              "3      14.37        1.95  2.50               16.8      113.0           3.85   \n",
              "4      13.24        2.59  2.87               21.0      118.0           2.80   \n",
              "..       ...         ...   ...                ...        ...            ...   \n",
              "173    13.71        5.65  2.45               20.5       95.0           1.68   \n",
              "174    13.40        3.91  2.48               23.0      102.0           1.80   \n",
              "175    13.27        4.28  2.26               20.0      120.0           1.59   \n",
              "176    13.17        2.59  2.37               20.0      120.0           1.65   \n",
              "177    14.13        4.10  2.74               24.5       96.0           2.05   \n",
              "\n",
              "     flavanoids  nonflavanoid_phenols  proanthocyanins  color_intensity   hue  \\\n",
              "0          3.06                  0.28             2.29             5.64  1.04   \n",
              "1          2.76                  0.26             1.28             4.38  1.05   \n",
              "2          3.24                  0.30             2.81             5.68  1.03   \n",
              "3          3.49                  0.24             2.18             7.80  0.86   \n",
              "4          2.69                  0.39             1.82             4.32  1.04   \n",
              "..          ...                   ...              ...              ...   ...   \n",
              "173        0.61                  0.52             1.06             7.70  0.64   \n",
              "174        0.75                  0.43             1.41             7.30  0.70   \n",
              "175        0.69                  0.43             1.35            10.20  0.59   \n",
              "176        0.68                  0.53             1.46             9.30  0.60   \n",
              "177        0.76                  0.56             1.35             9.20  0.61   \n",
              "\n",
              "     od280/od315_of_diluted_wines  proline  \n",
              "0                            3.92   1065.0  \n",
              "1                            3.40   1050.0  \n",
              "2                            3.17   1185.0  \n",
              "3                            3.45   1480.0  \n",
              "4                            2.93    735.0  \n",
              "..                            ...      ...  \n",
              "173                          1.74    740.0  \n",
              "174                          1.56    750.0  \n",
              "175                          1.56    835.0  \n",
              "176                          1.62    840.0  \n",
              "177                          1.60    560.0  \n",
              "\n",
              "[178 rows x 13 columns]"
            ],
            "text/html": [
              "\n",
              "  <div id=\"df-2ce48f83-5109-4f88-ad53-f42cd7b45efa\">\n",
              "    <div class=\"colab-df-container\">\n",
              "      <div>\n",
              "<style scoped>\n",
              "    .dataframe tbody tr th:only-of-type {\n",
              "        vertical-align: middle;\n",
              "    }\n",
              "\n",
              "    .dataframe tbody tr th {\n",
              "        vertical-align: top;\n",
              "    }\n",
              "\n",
              "    .dataframe thead th {\n",
              "        text-align: right;\n",
              "    }\n",
              "</style>\n",
              "<table border=\"1\" class=\"dataframe\">\n",
              "  <thead>\n",
              "    <tr style=\"text-align: right;\">\n",
              "      <th></th>\n",
              "      <th>alcohol</th>\n",
              "      <th>malic_acid</th>\n",
              "      <th>ash</th>\n",
              "      <th>alcalinity_of_ash</th>\n",
              "      <th>magnesium</th>\n",
              "      <th>total_phenols</th>\n",
              "      <th>flavanoids</th>\n",
              "      <th>nonflavanoid_phenols</th>\n",
              "      <th>proanthocyanins</th>\n",
              "      <th>color_intensity</th>\n",
              "      <th>hue</th>\n",
              "      <th>od280/od315_of_diluted_wines</th>\n",
              "      <th>proline</th>\n",
              "    </tr>\n",
              "  </thead>\n",
              "  <tbody>\n",
              "    <tr>\n",
              "      <th>0</th>\n",
              "      <td>14.23</td>\n",
              "      <td>1.71</td>\n",
              "      <td>2.43</td>\n",
              "      <td>15.6</td>\n",
              "      <td>127.0</td>\n",
              "      <td>2.80</td>\n",
              "      <td>3.06</td>\n",
              "      <td>0.28</td>\n",
              "      <td>2.29</td>\n",
              "      <td>5.64</td>\n",
              "      <td>1.04</td>\n",
              "      <td>3.92</td>\n",
              "      <td>1065.0</td>\n",
              "    </tr>\n",
              "    <tr>\n",
              "      <th>1</th>\n",
              "      <td>13.20</td>\n",
              "      <td>1.78</td>\n",
              "      <td>2.14</td>\n",
              "      <td>11.2</td>\n",
              "      <td>100.0</td>\n",
              "      <td>2.65</td>\n",
              "      <td>2.76</td>\n",
              "      <td>0.26</td>\n",
              "      <td>1.28</td>\n",
              "      <td>4.38</td>\n",
              "      <td>1.05</td>\n",
              "      <td>3.40</td>\n",
              "      <td>1050.0</td>\n",
              "    </tr>\n",
              "    <tr>\n",
              "      <th>2</th>\n",
              "      <td>13.16</td>\n",
              "      <td>2.36</td>\n",
              "      <td>2.67</td>\n",
              "      <td>18.6</td>\n",
              "      <td>101.0</td>\n",
              "      <td>2.80</td>\n",
              "      <td>3.24</td>\n",
              "      <td>0.30</td>\n",
              "      <td>2.81</td>\n",
              "      <td>5.68</td>\n",
              "      <td>1.03</td>\n",
              "      <td>3.17</td>\n",
              "      <td>1185.0</td>\n",
              "    </tr>\n",
              "    <tr>\n",
              "      <th>3</th>\n",
              "      <td>14.37</td>\n",
              "      <td>1.95</td>\n",
              "      <td>2.50</td>\n",
              "      <td>16.8</td>\n",
              "      <td>113.0</td>\n",
              "      <td>3.85</td>\n",
              "      <td>3.49</td>\n",
              "      <td>0.24</td>\n",
              "      <td>2.18</td>\n",
              "      <td>7.80</td>\n",
              "      <td>0.86</td>\n",
              "      <td>3.45</td>\n",
              "      <td>1480.0</td>\n",
              "    </tr>\n",
              "    <tr>\n",
              "      <th>4</th>\n",
              "      <td>13.24</td>\n",
              "      <td>2.59</td>\n",
              "      <td>2.87</td>\n",
              "      <td>21.0</td>\n",
              "      <td>118.0</td>\n",
              "      <td>2.80</td>\n",
              "      <td>2.69</td>\n",
              "      <td>0.39</td>\n",
              "      <td>1.82</td>\n",
              "      <td>4.32</td>\n",
              "      <td>1.04</td>\n",
              "      <td>2.93</td>\n",
              "      <td>735.0</td>\n",
              "    </tr>\n",
              "    <tr>\n",
              "      <th>...</th>\n",
              "      <td>...</td>\n",
              "      <td>...</td>\n",
              "      <td>...</td>\n",
              "      <td>...</td>\n",
              "      <td>...</td>\n",
              "      <td>...</td>\n",
              "      <td>...</td>\n",
              "      <td>...</td>\n",
              "      <td>...</td>\n",
              "      <td>...</td>\n",
              "      <td>...</td>\n",
              "      <td>...</td>\n",
              "      <td>...</td>\n",
              "    </tr>\n",
              "    <tr>\n",
              "      <th>173</th>\n",
              "      <td>13.71</td>\n",
              "      <td>5.65</td>\n",
              "      <td>2.45</td>\n",
              "      <td>20.5</td>\n",
              "      <td>95.0</td>\n",
              "      <td>1.68</td>\n",
              "      <td>0.61</td>\n",
              "      <td>0.52</td>\n",
              "      <td>1.06</td>\n",
              "      <td>7.70</td>\n",
              "      <td>0.64</td>\n",
              "      <td>1.74</td>\n",
              "      <td>740.0</td>\n",
              "    </tr>\n",
              "    <tr>\n",
              "      <th>174</th>\n",
              "      <td>13.40</td>\n",
              "      <td>3.91</td>\n",
              "      <td>2.48</td>\n",
              "      <td>23.0</td>\n",
              "      <td>102.0</td>\n",
              "      <td>1.80</td>\n",
              "      <td>0.75</td>\n",
              "      <td>0.43</td>\n",
              "      <td>1.41</td>\n",
              "      <td>7.30</td>\n",
              "      <td>0.70</td>\n",
              "      <td>1.56</td>\n",
              "      <td>750.0</td>\n",
              "    </tr>\n",
              "    <tr>\n",
              "      <th>175</th>\n",
              "      <td>13.27</td>\n",
              "      <td>4.28</td>\n",
              "      <td>2.26</td>\n",
              "      <td>20.0</td>\n",
              "      <td>120.0</td>\n",
              "      <td>1.59</td>\n",
              "      <td>0.69</td>\n",
              "      <td>0.43</td>\n",
              "      <td>1.35</td>\n",
              "      <td>10.20</td>\n",
              "      <td>0.59</td>\n",
              "      <td>1.56</td>\n",
              "      <td>835.0</td>\n",
              "    </tr>\n",
              "    <tr>\n",
              "      <th>176</th>\n",
              "      <td>13.17</td>\n",
              "      <td>2.59</td>\n",
              "      <td>2.37</td>\n",
              "      <td>20.0</td>\n",
              "      <td>120.0</td>\n",
              "      <td>1.65</td>\n",
              "      <td>0.68</td>\n",
              "      <td>0.53</td>\n",
              "      <td>1.46</td>\n",
              "      <td>9.30</td>\n",
              "      <td>0.60</td>\n",
              "      <td>1.62</td>\n",
              "      <td>840.0</td>\n",
              "    </tr>\n",
              "    <tr>\n",
              "      <th>177</th>\n",
              "      <td>14.13</td>\n",
              "      <td>4.10</td>\n",
              "      <td>2.74</td>\n",
              "      <td>24.5</td>\n",
              "      <td>96.0</td>\n",
              "      <td>2.05</td>\n",
              "      <td>0.76</td>\n",
              "      <td>0.56</td>\n",
              "      <td>1.35</td>\n",
              "      <td>9.20</td>\n",
              "      <td>0.61</td>\n",
              "      <td>1.60</td>\n",
              "      <td>560.0</td>\n",
              "    </tr>\n",
              "  </tbody>\n",
              "</table>\n",
              "<p>178 rows × 13 columns</p>\n",
              "</div>\n",
              "      <button class=\"colab-df-convert\" onclick=\"convertToInteractive('df-2ce48f83-5109-4f88-ad53-f42cd7b45efa')\"\n",
              "              title=\"Convert this dataframe to an interactive table.\"\n",
              "              style=\"display:none;\">\n",
              "        \n",
              "  <svg xmlns=\"http://www.w3.org/2000/svg\" height=\"24px\"viewBox=\"0 0 24 24\"\n",
              "       width=\"24px\">\n",
              "    <path d=\"M0 0h24v24H0V0z\" fill=\"none\"/>\n",
              "    <path d=\"M18.56 5.44l.94 2.06.94-2.06 2.06-.94-2.06-.94-.94-2.06-.94 2.06-2.06.94zm-11 1L8.5 8.5l.94-2.06 2.06-.94-2.06-.94L8.5 2.5l-.94 2.06-2.06.94zm10 10l.94 2.06.94-2.06 2.06-.94-2.06-.94-.94-2.06-.94 2.06-2.06.94z\"/><path d=\"M17.41 7.96l-1.37-1.37c-.4-.4-.92-.59-1.43-.59-.52 0-1.04.2-1.43.59L10.3 9.45l-7.72 7.72c-.78.78-.78 2.05 0 2.83L4 21.41c.39.39.9.59 1.41.59.51 0 1.02-.2 1.41-.59l7.78-7.78 2.81-2.81c.8-.78.8-2.07 0-2.86zM5.41 20L4 18.59l7.72-7.72 1.47 1.35L5.41 20z\"/>\n",
              "  </svg>\n",
              "      </button>\n",
              "      \n",
              "  <style>\n",
              "    .colab-df-container {\n",
              "      display:flex;\n",
              "      flex-wrap:wrap;\n",
              "      gap: 12px;\n",
              "    }\n",
              "\n",
              "    .colab-df-convert {\n",
              "      background-color: #E8F0FE;\n",
              "      border: none;\n",
              "      border-radius: 50%;\n",
              "      cursor: pointer;\n",
              "      display: none;\n",
              "      fill: #1967D2;\n",
              "      height: 32px;\n",
              "      padding: 0 0 0 0;\n",
              "      width: 32px;\n",
              "    }\n",
              "\n",
              "    .colab-df-convert:hover {\n",
              "      background-color: #E2EBFA;\n",
              "      box-shadow: 0px 1px 2px rgba(60, 64, 67, 0.3), 0px 1px 3px 1px rgba(60, 64, 67, 0.15);\n",
              "      fill: #174EA6;\n",
              "    }\n",
              "\n",
              "    [theme=dark] .colab-df-convert {\n",
              "      background-color: #3B4455;\n",
              "      fill: #D2E3FC;\n",
              "    }\n",
              "\n",
              "    [theme=dark] .colab-df-convert:hover {\n",
              "      background-color: #434B5C;\n",
              "      box-shadow: 0px 1px 3px 1px rgba(0, 0, 0, 0.15);\n",
              "      filter: drop-shadow(0px 1px 2px rgba(0, 0, 0, 0.3));\n",
              "      fill: #FFFFFF;\n",
              "    }\n",
              "  </style>\n",
              "\n",
              "      <script>\n",
              "        const buttonEl =\n",
              "          document.querySelector('#df-2ce48f83-5109-4f88-ad53-f42cd7b45efa button.colab-df-convert');\n",
              "        buttonEl.style.display =\n",
              "          google.colab.kernel.accessAllowed ? 'block' : 'none';\n",
              "\n",
              "        async function convertToInteractive(key) {\n",
              "          const element = document.querySelector('#df-2ce48f83-5109-4f88-ad53-f42cd7b45efa');\n",
              "          const dataTable =\n",
              "            await google.colab.kernel.invokeFunction('convertToInteractive',\n",
              "                                                     [key], {});\n",
              "          if (!dataTable) return;\n",
              "\n",
              "          const docLinkHtml = 'Like what you see? Visit the ' +\n",
              "            '<a target=\"_blank\" href=https://colab.research.google.com/notebooks/data_table.ipynb>data table notebook</a>'\n",
              "            + ' to learn more about interactive tables.';\n",
              "          element.innerHTML = '';\n",
              "          dataTable['output_type'] = 'display_data';\n",
              "          await google.colab.output.renderOutput(dataTable, element);\n",
              "          const docLink = document.createElement('div');\n",
              "          docLink.innerHTML = docLinkHtml;\n",
              "          element.appendChild(docLink);\n",
              "        }\n",
              "      </script>\n",
              "    </div>\n",
              "  </div>\n",
              "  "
            ]
          },
          "metadata": {},
          "execution_count": 5
        }
      ]
    },
    {
      "cell_type": "code",
      "execution_count": 6,
      "id": "2688f168-f83e-4a26-8656-df7836a0295b",
      "metadata": {
        "tags": [],
        "id": "2688f168-f83e-4a26-8656-df7836a0295b"
      },
      "outputs": [],
      "source": [
        "X_train, X_test, y_train, y_test = train_test_split(\n",
        "    X, y, stratify=y, random_state=0\n",
        ")"
      ]
    },
    {
      "cell_type": "markdown",
      "id": "445c284d-de65-41c2-bea1-6699b30d3c68",
      "metadata": {
        "id": "445c284d-de65-41c2-bea1-6699b30d3c68"
      },
      "source": [
        "## Default Scaler"
      ]
    },
    {
      "cell_type": "code",
      "execution_count": 7,
      "id": "ac7ad9f3-c010-43b4-bc66-b8c9994a30cb",
      "metadata": {
        "tags": [],
        "id": "ac7ad9f3-c010-43b4-bc66-b8c9994a30cb"
      },
      "outputs": [],
      "source": [
        "from sklearn.preprocessing import StandardScaler"
      ]
    },
    {
      "cell_type": "code",
      "execution_count": 8,
      "id": "a7efa3bf-d339-4776-b570-a36b06a499f6",
      "metadata": {
        "tags": [],
        "id": "a7efa3bf-d339-4776-b570-a36b06a499f6",
        "outputId": "eb31ae01-eeed-4baa-f481-974210c5b49d",
        "colab": {
          "base_uri": "https://localhost:8080/"
        }
      },
      "outputs": [
        {
          "output_type": "execute_result",
          "data": {
            "text/plain": [
              "array([[ 0.60197404, -0.46117588,  0.97991346, ...,  0.65183482,\n",
              "         0.38536664,  1.05318219],\n",
              "       [-1.16265978, -0.8194594 ,  0.4424025 , ..., -0.116569  ,\n",
              "         0.85117761, -1.14091833],\n",
              "       [ 0.79941558, -0.94180012, -1.6359732 , ...,  1.23943774,\n",
              "        -0.21145366, -0.38379914],\n",
              "       ...,\n",
              "       [ 0.17007066,  1.08556031, -0.81178973, ..., -1.60817641,\n",
              "        -1.3468679 ,  0.23425735],\n",
              "       [ 0.68835471,  0.22043668,  1.12324972, ..., -0.97537327,\n",
              "        -1.17218879, -0.01296525],\n",
              "       [-0.80479698, -0.97675461,  0.65740689, ...,  1.05863684,\n",
              "        -0.44435915, -0.23546558]])"
            ]
          },
          "metadata": {},
          "execution_count": 8
        }
      ],
      "source": [
        "scaler = StandardScaler()\n",
        "scaler.fit_transform(X_train)"
      ]
    },
    {
      "cell_type": "markdown",
      "id": "df6a7986-1c78-404b-a099-63c050aef6b5",
      "metadata": {
        "id": "df6a7986-1c78-404b-a099-63c050aef6b5"
      },
      "source": [
        "## Scaler with Pandas output"
      ]
    },
    {
      "cell_type": "code",
      "execution_count": 9,
      "id": "9a67694a-8fc3-45f8-bfbf-9eaa3679edee",
      "metadata": {
        "tags": [],
        "id": "9a67694a-8fc3-45f8-bfbf-9eaa3679edee",
        "outputId": "271be33a-d3b8-4756-8f38-ed0916bd3d20",
        "colab": {
          "base_uri": "https://localhost:8080/",
          "height": 487
        }
      },
      "outputs": [
        {
          "output_type": "execute_result",
          "data": {
            "text/plain": [
              "      alcohol  malic_acid       ash  alcalinity_of_ash  magnesium  \\\n",
              "34   0.601974   -0.461176  0.979913          -0.192449   0.797539   \n",
              "114 -1.162660   -0.819459  0.442403           0.814123  -1.084979   \n",
              "62   0.799416   -0.941800 -1.635973          -0.480041  -0.360934   \n",
              "139 -0.224812    0.552504  0.836577           1.245512   0.145898   \n",
              "122 -0.743096    1.837082  1.266586           1.964492   0.218302   \n",
              "..        ...         ...       ...                ...        ...   \n",
              "48   1.330040   -0.268926  0.084062          -0.249967   0.290707   \n",
              "80  -1.261381   -1.230175 -1.349301          -0.192449  -0.940170   \n",
              "145  0.170071    1.085560 -0.811790           0.382735   0.218302   \n",
              "168  0.688355    0.220437  1.123250           1.389308   0.435516   \n",
              "65  -0.804797   -0.976755  0.657407          -0.451282  -0.071316   \n",
              "\n",
              "     total_phenols  flavanoids  nonflavanoid_phenols  proanthocyanins  \\\n",
              "34        0.074112    0.490212             -0.641726        -0.113656   \n",
              "114       0.419102    0.254981              0.529739        -0.954378   \n",
              "62       -0.336591   -0.235084             -0.390698        -1.475626   \n",
              "139       0.024827   -1.401439              1.366499        -1.341111   \n",
              "122      -0.172310    0.098160              0.529739         0.172190   \n",
              "..             ...         ...                   ...              ...   \n",
              "48        0.731236    0.872463             -0.390698         1.298759   \n",
              "80        0.189108    0.225577             -0.558050        -0.298615   \n",
              "145      -1.322277   -1.450445              0.529739        -0.517203   \n",
              "168      -1.240136   -1.166207              0.195034        -0.113656   \n",
              "65        0.189108    0.607828              0.027682         0.794325   \n",
              "\n",
              "     color_intensity       hue  od280/od315_of_diluted_wines   proline  \n",
              "34         -0.357151  0.651835                      0.385367  1.053182  \n",
              "114        -0.915784 -0.116569                      0.851178 -1.140918  \n",
              "62         -0.529038  1.239438                     -0.211454 -0.383799  \n",
              "139        -0.047754 -0.297370                     -0.662708 -0.507410  \n",
              "122        -1.268153 -0.161769                      0.749281 -1.202724  \n",
              "..               ...       ...                           ...       ...  \n",
              "48          0.502285  0.516234                      0.210688  0.945022  \n",
              "80         -1.087671  1.917441                      0.749281 -1.471579  \n",
              "145        -0.443094 -1.608176                     -1.346868  0.234257  \n",
              "168         1.559392 -0.975373                     -1.172189 -0.012965  \n",
              "65         -0.185263  1.058637                     -0.444359 -0.235466  \n",
              "\n",
              "[133 rows x 13 columns]"
            ],
            "text/html": [
              "\n",
              "  <div id=\"df-a697941e-a649-437f-9bf2-7051b18befba\">\n",
              "    <div class=\"colab-df-container\">\n",
              "      <div>\n",
              "<style scoped>\n",
              "    .dataframe tbody tr th:only-of-type {\n",
              "        vertical-align: middle;\n",
              "    }\n",
              "\n",
              "    .dataframe tbody tr th {\n",
              "        vertical-align: top;\n",
              "    }\n",
              "\n",
              "    .dataframe thead th {\n",
              "        text-align: right;\n",
              "    }\n",
              "</style>\n",
              "<table border=\"1\" class=\"dataframe\">\n",
              "  <thead>\n",
              "    <tr style=\"text-align: right;\">\n",
              "      <th></th>\n",
              "      <th>alcohol</th>\n",
              "      <th>malic_acid</th>\n",
              "      <th>ash</th>\n",
              "      <th>alcalinity_of_ash</th>\n",
              "      <th>magnesium</th>\n",
              "      <th>total_phenols</th>\n",
              "      <th>flavanoids</th>\n",
              "      <th>nonflavanoid_phenols</th>\n",
              "      <th>proanthocyanins</th>\n",
              "      <th>color_intensity</th>\n",
              "      <th>hue</th>\n",
              "      <th>od280/od315_of_diluted_wines</th>\n",
              "      <th>proline</th>\n",
              "    </tr>\n",
              "  </thead>\n",
              "  <tbody>\n",
              "    <tr>\n",
              "      <th>34</th>\n",
              "      <td>0.601974</td>\n",
              "      <td>-0.461176</td>\n",
              "      <td>0.979913</td>\n",
              "      <td>-0.192449</td>\n",
              "      <td>0.797539</td>\n",
              "      <td>0.074112</td>\n",
              "      <td>0.490212</td>\n",
              "      <td>-0.641726</td>\n",
              "      <td>-0.113656</td>\n",
              "      <td>-0.357151</td>\n",
              "      <td>0.651835</td>\n",
              "      <td>0.385367</td>\n",
              "      <td>1.053182</td>\n",
              "    </tr>\n",
              "    <tr>\n",
              "      <th>114</th>\n",
              "      <td>-1.162660</td>\n",
              "      <td>-0.819459</td>\n",
              "      <td>0.442403</td>\n",
              "      <td>0.814123</td>\n",
              "      <td>-1.084979</td>\n",
              "      <td>0.419102</td>\n",
              "      <td>0.254981</td>\n",
              "      <td>0.529739</td>\n",
              "      <td>-0.954378</td>\n",
              "      <td>-0.915784</td>\n",
              "      <td>-0.116569</td>\n",
              "      <td>0.851178</td>\n",
              "      <td>-1.140918</td>\n",
              "    </tr>\n",
              "    <tr>\n",
              "      <th>62</th>\n",
              "      <td>0.799416</td>\n",
              "      <td>-0.941800</td>\n",
              "      <td>-1.635973</td>\n",
              "      <td>-0.480041</td>\n",
              "      <td>-0.360934</td>\n",
              "      <td>-0.336591</td>\n",
              "      <td>-0.235084</td>\n",
              "      <td>-0.390698</td>\n",
              "      <td>-1.475626</td>\n",
              "      <td>-0.529038</td>\n",
              "      <td>1.239438</td>\n",
              "      <td>-0.211454</td>\n",
              "      <td>-0.383799</td>\n",
              "    </tr>\n",
              "    <tr>\n",
              "      <th>139</th>\n",
              "      <td>-0.224812</td>\n",
              "      <td>0.552504</td>\n",
              "      <td>0.836577</td>\n",
              "      <td>1.245512</td>\n",
              "      <td>0.145898</td>\n",
              "      <td>0.024827</td>\n",
              "      <td>-1.401439</td>\n",
              "      <td>1.366499</td>\n",
              "      <td>-1.341111</td>\n",
              "      <td>-0.047754</td>\n",
              "      <td>-0.297370</td>\n",
              "      <td>-0.662708</td>\n",
              "      <td>-0.507410</td>\n",
              "    </tr>\n",
              "    <tr>\n",
              "      <th>122</th>\n",
              "      <td>-0.743096</td>\n",
              "      <td>1.837082</td>\n",
              "      <td>1.266586</td>\n",
              "      <td>1.964492</td>\n",
              "      <td>0.218302</td>\n",
              "      <td>-0.172310</td>\n",
              "      <td>0.098160</td>\n",
              "      <td>0.529739</td>\n",
              "      <td>0.172190</td>\n",
              "      <td>-1.268153</td>\n",
              "      <td>-0.161769</td>\n",
              "      <td>0.749281</td>\n",
              "      <td>-1.202724</td>\n",
              "    </tr>\n",
              "    <tr>\n",
              "      <th>...</th>\n",
              "      <td>...</td>\n",
              "      <td>...</td>\n",
              "      <td>...</td>\n",
              "      <td>...</td>\n",
              "      <td>...</td>\n",
              "      <td>...</td>\n",
              "      <td>...</td>\n",
              "      <td>...</td>\n",
              "      <td>...</td>\n",
              "      <td>...</td>\n",
              "      <td>...</td>\n",
              "      <td>...</td>\n",
              "      <td>...</td>\n",
              "    </tr>\n",
              "    <tr>\n",
              "      <th>48</th>\n",
              "      <td>1.330040</td>\n",
              "      <td>-0.268926</td>\n",
              "      <td>0.084062</td>\n",
              "      <td>-0.249967</td>\n",
              "      <td>0.290707</td>\n",
              "      <td>0.731236</td>\n",
              "      <td>0.872463</td>\n",
              "      <td>-0.390698</td>\n",
              "      <td>1.298759</td>\n",
              "      <td>0.502285</td>\n",
              "      <td>0.516234</td>\n",
              "      <td>0.210688</td>\n",
              "      <td>0.945022</td>\n",
              "    </tr>\n",
              "    <tr>\n",
              "      <th>80</th>\n",
              "      <td>-1.261381</td>\n",
              "      <td>-1.230175</td>\n",
              "      <td>-1.349301</td>\n",
              "      <td>-0.192449</td>\n",
              "      <td>-0.940170</td>\n",
              "      <td>0.189108</td>\n",
              "      <td>0.225577</td>\n",
              "      <td>-0.558050</td>\n",
              "      <td>-0.298615</td>\n",
              "      <td>-1.087671</td>\n",
              "      <td>1.917441</td>\n",
              "      <td>0.749281</td>\n",
              "      <td>-1.471579</td>\n",
              "    </tr>\n",
              "    <tr>\n",
              "      <th>145</th>\n",
              "      <td>0.170071</td>\n",
              "      <td>1.085560</td>\n",
              "      <td>-0.811790</td>\n",
              "      <td>0.382735</td>\n",
              "      <td>0.218302</td>\n",
              "      <td>-1.322277</td>\n",
              "      <td>-1.450445</td>\n",
              "      <td>0.529739</td>\n",
              "      <td>-0.517203</td>\n",
              "      <td>-0.443094</td>\n",
              "      <td>-1.608176</td>\n",
              "      <td>-1.346868</td>\n",
              "      <td>0.234257</td>\n",
              "    </tr>\n",
              "    <tr>\n",
              "      <th>168</th>\n",
              "      <td>0.688355</td>\n",
              "      <td>0.220437</td>\n",
              "      <td>1.123250</td>\n",
              "      <td>1.389308</td>\n",
              "      <td>0.435516</td>\n",
              "      <td>-1.240136</td>\n",
              "      <td>-1.166207</td>\n",
              "      <td>0.195034</td>\n",
              "      <td>-0.113656</td>\n",
              "      <td>1.559392</td>\n",
              "      <td>-0.975373</td>\n",
              "      <td>-1.172189</td>\n",
              "      <td>-0.012965</td>\n",
              "    </tr>\n",
              "    <tr>\n",
              "      <th>65</th>\n",
              "      <td>-0.804797</td>\n",
              "      <td>-0.976755</td>\n",
              "      <td>0.657407</td>\n",
              "      <td>-0.451282</td>\n",
              "      <td>-0.071316</td>\n",
              "      <td>0.189108</td>\n",
              "      <td>0.607828</td>\n",
              "      <td>0.027682</td>\n",
              "      <td>0.794325</td>\n",
              "      <td>-0.185263</td>\n",
              "      <td>1.058637</td>\n",
              "      <td>-0.444359</td>\n",
              "      <td>-0.235466</td>\n",
              "    </tr>\n",
              "  </tbody>\n",
              "</table>\n",
              "<p>133 rows × 13 columns</p>\n",
              "</div>\n",
              "      <button class=\"colab-df-convert\" onclick=\"convertToInteractive('df-a697941e-a649-437f-9bf2-7051b18befba')\"\n",
              "              title=\"Convert this dataframe to an interactive table.\"\n",
              "              style=\"display:none;\">\n",
              "        \n",
              "  <svg xmlns=\"http://www.w3.org/2000/svg\" height=\"24px\"viewBox=\"0 0 24 24\"\n",
              "       width=\"24px\">\n",
              "    <path d=\"M0 0h24v24H0V0z\" fill=\"none\"/>\n",
              "    <path d=\"M18.56 5.44l.94 2.06.94-2.06 2.06-.94-2.06-.94-.94-2.06-.94 2.06-2.06.94zm-11 1L8.5 8.5l.94-2.06 2.06-.94-2.06-.94L8.5 2.5l-.94 2.06-2.06.94zm10 10l.94 2.06.94-2.06 2.06-.94-2.06-.94-.94-2.06-.94 2.06-2.06.94z\"/><path d=\"M17.41 7.96l-1.37-1.37c-.4-.4-.92-.59-1.43-.59-.52 0-1.04.2-1.43.59L10.3 9.45l-7.72 7.72c-.78.78-.78 2.05 0 2.83L4 21.41c.39.39.9.59 1.41.59.51 0 1.02-.2 1.41-.59l7.78-7.78 2.81-2.81c.8-.78.8-2.07 0-2.86zM5.41 20L4 18.59l7.72-7.72 1.47 1.35L5.41 20z\"/>\n",
              "  </svg>\n",
              "      </button>\n",
              "      \n",
              "  <style>\n",
              "    .colab-df-container {\n",
              "      display:flex;\n",
              "      flex-wrap:wrap;\n",
              "      gap: 12px;\n",
              "    }\n",
              "\n",
              "    .colab-df-convert {\n",
              "      background-color: #E8F0FE;\n",
              "      border: none;\n",
              "      border-radius: 50%;\n",
              "      cursor: pointer;\n",
              "      display: none;\n",
              "      fill: #1967D2;\n",
              "      height: 32px;\n",
              "      padding: 0 0 0 0;\n",
              "      width: 32px;\n",
              "    }\n",
              "\n",
              "    .colab-df-convert:hover {\n",
              "      background-color: #E2EBFA;\n",
              "      box-shadow: 0px 1px 2px rgba(60, 64, 67, 0.3), 0px 1px 3px 1px rgba(60, 64, 67, 0.15);\n",
              "      fill: #174EA6;\n",
              "    }\n",
              "\n",
              "    [theme=dark] .colab-df-convert {\n",
              "      background-color: #3B4455;\n",
              "      fill: #D2E3FC;\n",
              "    }\n",
              "\n",
              "    [theme=dark] .colab-df-convert:hover {\n",
              "      background-color: #434B5C;\n",
              "      box-shadow: 0px 1px 3px 1px rgba(0, 0, 0, 0.15);\n",
              "      filter: drop-shadow(0px 1px 2px rgba(0, 0, 0, 0.3));\n",
              "      fill: #FFFFFF;\n",
              "    }\n",
              "  </style>\n",
              "\n",
              "      <script>\n",
              "        const buttonEl =\n",
              "          document.querySelector('#df-a697941e-a649-437f-9bf2-7051b18befba button.colab-df-convert');\n",
              "        buttonEl.style.display =\n",
              "          google.colab.kernel.accessAllowed ? 'block' : 'none';\n",
              "\n",
              "        async function convertToInteractive(key) {\n",
              "          const element = document.querySelector('#df-a697941e-a649-437f-9bf2-7051b18befba');\n",
              "          const dataTable =\n",
              "            await google.colab.kernel.invokeFunction('convertToInteractive',\n",
              "                                                     [key], {});\n",
              "          if (!dataTable) return;\n",
              "\n",
              "          const docLinkHtml = 'Like what you see? Visit the ' +\n",
              "            '<a target=\"_blank\" href=https://colab.research.google.com/notebooks/data_table.ipynb>data table notebook</a>'\n",
              "            + ' to learn more about interactive tables.';\n",
              "          element.innerHTML = '';\n",
              "          dataTable['output_type'] = 'display_data';\n",
              "          await google.colab.output.renderOutput(dataTable, element);\n",
              "          const docLink = document.createElement('div');\n",
              "          docLink.innerHTML = docLinkHtml;\n",
              "          element.appendChild(docLink);\n",
              "        }\n",
              "      </script>\n",
              "    </div>\n",
              "  </div>\n",
              "  "
            ]
          },
          "metadata": {},
          "execution_count": 9
        }
      ],
      "source": [
        "scaler.set_output(transform=\"pandas\")\n",
        "scaler.fit_transform(X_train)"
      ]
    },
    {
      "cell_type": "markdown",
      "id": "a2371b6d-9321-4be8-8978-0f6b75898d46",
      "metadata": {
        "id": "a2371b6d-9321-4be8-8978-0f6b75898d46"
      },
      "source": [
        "## In a ML Pipeline"
      ]
    },
    {
      "cell_type": "code",
      "execution_count": 10,
      "id": "101570ea-6336-4f0d-96e0-37edc5aad6ee",
      "metadata": {
        "tags": [],
        "id": "101570ea-6336-4f0d-96e0-37edc5aad6ee"
      },
      "outputs": [],
      "source": [
        "from sklearn.linear_model import LogisticRegression\n",
        "from sklearn.feature_selection import SelectPercentile\n",
        "from sklearn.pipeline import make_pipeline"
      ]
    },
    {
      "cell_type": "code",
      "execution_count": 12,
      "id": "423b68ac-a128-4067-9187-2f96e9e004c9",
      "metadata": {
        "tags": [],
        "id": "423b68ac-a128-4067-9187-2f96e9e004c9"
      },
      "outputs": [],
      "source": [
        "log_reg = make_pipeline(\n",
        "    StandardScaler(),\n",
        "    SelectPercentile(percentile=50),\n",
        "    LogisticRegression()\n",
        ")"
      ]
    },
    {
      "cell_type": "code",
      "execution_count": 13,
      "id": "23f8e17e-e83e-4a19-a375-3892ac9308a5",
      "metadata": {
        "tags": [],
        "id": "23f8e17e-e83e-4a19-a375-3892ac9308a5",
        "outputId": "c1953f5e-d42d-473d-dbc0-cd126d0fd7aa",
        "colab": {
          "base_uri": "https://localhost:8080/",
          "height": 159
        }
      },
      "outputs": [
        {
          "output_type": "execute_result",
          "data": {
            "text/plain": [
              "Pipeline(steps=[('standardscaler', StandardScaler()),\n",
              "                ('selectpercentile', SelectPercentile(percentile=50)),\n",
              "                ('logisticregression', LogisticRegression())])"
            ],
            "text/html": [
              "<style>#sk-container-id-1 {color: black;background-color: white;}#sk-container-id-1 pre{padding: 0;}#sk-container-id-1 div.sk-toggleable {background-color: white;}#sk-container-id-1 label.sk-toggleable__label {cursor: pointer;display: block;width: 100%;margin-bottom: 0;padding: 0.3em;box-sizing: border-box;text-align: center;}#sk-container-id-1 label.sk-toggleable__label-arrow:before {content: \"▸\";float: left;margin-right: 0.25em;color: #696969;}#sk-container-id-1 label.sk-toggleable__label-arrow:hover:before {color: black;}#sk-container-id-1 div.sk-estimator:hover label.sk-toggleable__label-arrow:before {color: black;}#sk-container-id-1 div.sk-toggleable__content {max-height: 0;max-width: 0;overflow: hidden;text-align: left;background-color: #f0f8ff;}#sk-container-id-1 div.sk-toggleable__content pre {margin: 0.2em;color: black;border-radius: 0.25em;background-color: #f0f8ff;}#sk-container-id-1 input.sk-toggleable__control:checked~div.sk-toggleable__content {max-height: 200px;max-width: 100%;overflow: auto;}#sk-container-id-1 input.sk-toggleable__control:checked~label.sk-toggleable__label-arrow:before {content: \"▾\";}#sk-container-id-1 div.sk-estimator input.sk-toggleable__control:checked~label.sk-toggleable__label {background-color: #d4ebff;}#sk-container-id-1 div.sk-label input.sk-toggleable__control:checked~label.sk-toggleable__label {background-color: #d4ebff;}#sk-container-id-1 input.sk-hidden--visually {border: 0;clip: rect(1px 1px 1px 1px);clip: rect(1px, 1px, 1px, 1px);height: 1px;margin: -1px;overflow: hidden;padding: 0;position: absolute;width: 1px;}#sk-container-id-1 div.sk-estimator {font-family: monospace;background-color: #f0f8ff;border: 1px dotted black;border-radius: 0.25em;box-sizing: border-box;margin-bottom: 0.5em;}#sk-container-id-1 div.sk-estimator:hover {background-color: #d4ebff;}#sk-container-id-1 div.sk-parallel-item::after {content: \"\";width: 100%;border-bottom: 1px solid gray;flex-grow: 1;}#sk-container-id-1 div.sk-label:hover label.sk-toggleable__label {background-color: #d4ebff;}#sk-container-id-1 div.sk-serial::before {content: \"\";position: absolute;border-left: 1px solid gray;box-sizing: border-box;top: 0;bottom: 0;left: 50%;z-index: 0;}#sk-container-id-1 div.sk-serial {display: flex;flex-direction: column;align-items: center;background-color: white;padding-right: 0.2em;padding-left: 0.2em;position: relative;}#sk-container-id-1 div.sk-item {position: relative;z-index: 1;}#sk-container-id-1 div.sk-parallel {display: flex;align-items: stretch;justify-content: center;background-color: white;position: relative;}#sk-container-id-1 div.sk-item::before, #sk-container-id-1 div.sk-parallel-item::before {content: \"\";position: absolute;border-left: 1px solid gray;box-sizing: border-box;top: 0;bottom: 0;left: 50%;z-index: -1;}#sk-container-id-1 div.sk-parallel-item {display: flex;flex-direction: column;z-index: 1;position: relative;background-color: white;}#sk-container-id-1 div.sk-parallel-item:first-child::after {align-self: flex-end;width: 50%;}#sk-container-id-1 div.sk-parallel-item:last-child::after {align-self: flex-start;width: 50%;}#sk-container-id-1 div.sk-parallel-item:only-child::after {width: 0;}#sk-container-id-1 div.sk-dashed-wrapped {border: 1px dashed gray;margin: 0 0.4em 0.5em 0.4em;box-sizing: border-box;padding-bottom: 0.4em;background-color: white;}#sk-container-id-1 div.sk-label label {font-family: monospace;font-weight: bold;display: inline-block;line-height: 1.2em;}#sk-container-id-1 div.sk-label-container {text-align: center;}#sk-container-id-1 div.sk-container {/* jupyter's `normalize.less` sets `[hidden] { display: none; }` but bootstrap.min.css set `[hidden] { display: none !important; }` so we also need the `!important` here to be able to override the default hidden behavior on the sphinx rendered scikit-learn.org. See: https://github.com/scikit-learn/scikit-learn/issues/21755 */display: inline-block !important;position: relative;}#sk-container-id-1 div.sk-text-repr-fallback {display: none;}</style><div id=\"sk-container-id-1\" class=\"sk-top-container\"><div class=\"sk-text-repr-fallback\"><pre>Pipeline(steps=[(&#x27;standardscaler&#x27;, StandardScaler()),\n",
              "                (&#x27;selectpercentile&#x27;, SelectPercentile(percentile=50)),\n",
              "                (&#x27;logisticregression&#x27;, LogisticRegression())])</pre><b>In a Jupyter environment, please rerun this cell to show the HTML representation or trust the notebook. <br />On GitHub, the HTML representation is unable to render, please try loading this page with nbviewer.org.</b></div><div class=\"sk-container\" hidden><div class=\"sk-item sk-dashed-wrapped\"><div class=\"sk-label-container\"><div class=\"sk-label sk-toggleable\"><input class=\"sk-toggleable__control sk-hidden--visually\" id=\"sk-estimator-id-1\" type=\"checkbox\" ><label for=\"sk-estimator-id-1\" class=\"sk-toggleable__label sk-toggleable__label-arrow\">Pipeline</label><div class=\"sk-toggleable__content\"><pre>Pipeline(steps=[(&#x27;standardscaler&#x27;, StandardScaler()),\n",
              "                (&#x27;selectpercentile&#x27;, SelectPercentile(percentile=50)),\n",
              "                (&#x27;logisticregression&#x27;, LogisticRegression())])</pre></div></div></div><div class=\"sk-serial\"><div class=\"sk-item\"><div class=\"sk-estimator sk-toggleable\"><input class=\"sk-toggleable__control sk-hidden--visually\" id=\"sk-estimator-id-2\" type=\"checkbox\" ><label for=\"sk-estimator-id-2\" class=\"sk-toggleable__label sk-toggleable__label-arrow\">StandardScaler</label><div class=\"sk-toggleable__content\"><pre>StandardScaler()</pre></div></div></div><div class=\"sk-item\"><div class=\"sk-estimator sk-toggleable\"><input class=\"sk-toggleable__control sk-hidden--visually\" id=\"sk-estimator-id-3\" type=\"checkbox\" ><label for=\"sk-estimator-id-3\" class=\"sk-toggleable__label sk-toggleable__label-arrow\">SelectPercentile</label><div class=\"sk-toggleable__content\"><pre>SelectPercentile(percentile=50)</pre></div></div></div><div class=\"sk-item\"><div class=\"sk-estimator sk-toggleable\"><input class=\"sk-toggleable__control sk-hidden--visually\" id=\"sk-estimator-id-4\" type=\"checkbox\" ><label for=\"sk-estimator-id-4\" class=\"sk-toggleable__label sk-toggleable__label-arrow\">LogisticRegression</label><div class=\"sk-toggleable__content\"><pre>LogisticRegression()</pre></div></div></div></div></div></div></div>"
            ]
          },
          "metadata": {},
          "execution_count": 13
        }
      ],
      "source": [
        "log_reg.set_output(transform=\"pandas\")\n",
        "log_reg.fit(X_train, y_train)"
      ]
    },
    {
      "cell_type": "code",
      "execution_count": 14,
      "id": "35f41e2a-e376-4bb7-86e4-27ffd868b390",
      "metadata": {
        "tags": [],
        "id": "35f41e2a-e376-4bb7-86e4-27ffd868b390",
        "outputId": "f7fb98cf-1380-421c-b69e-b68498f5fd5f",
        "colab": {
          "base_uri": "https://localhost:8080/",
          "height": 74
        }
      },
      "outputs": [
        {
          "output_type": "execute_result",
          "data": {
            "text/plain": [
              "LogisticRegression()"
            ],
            "text/html": [
              "<style>#sk-container-id-2 {color: black;background-color: white;}#sk-container-id-2 pre{padding: 0;}#sk-container-id-2 div.sk-toggleable {background-color: white;}#sk-container-id-2 label.sk-toggleable__label {cursor: pointer;display: block;width: 100%;margin-bottom: 0;padding: 0.3em;box-sizing: border-box;text-align: center;}#sk-container-id-2 label.sk-toggleable__label-arrow:before {content: \"▸\";float: left;margin-right: 0.25em;color: #696969;}#sk-container-id-2 label.sk-toggleable__label-arrow:hover:before {color: black;}#sk-container-id-2 div.sk-estimator:hover label.sk-toggleable__label-arrow:before {color: black;}#sk-container-id-2 div.sk-toggleable__content {max-height: 0;max-width: 0;overflow: hidden;text-align: left;background-color: #f0f8ff;}#sk-container-id-2 div.sk-toggleable__content pre {margin: 0.2em;color: black;border-radius: 0.25em;background-color: #f0f8ff;}#sk-container-id-2 input.sk-toggleable__control:checked~div.sk-toggleable__content {max-height: 200px;max-width: 100%;overflow: auto;}#sk-container-id-2 input.sk-toggleable__control:checked~label.sk-toggleable__label-arrow:before {content: \"▾\";}#sk-container-id-2 div.sk-estimator input.sk-toggleable__control:checked~label.sk-toggleable__label {background-color: #d4ebff;}#sk-container-id-2 div.sk-label input.sk-toggleable__control:checked~label.sk-toggleable__label {background-color: #d4ebff;}#sk-container-id-2 input.sk-hidden--visually {border: 0;clip: rect(1px 1px 1px 1px);clip: rect(1px, 1px, 1px, 1px);height: 1px;margin: -1px;overflow: hidden;padding: 0;position: absolute;width: 1px;}#sk-container-id-2 div.sk-estimator {font-family: monospace;background-color: #f0f8ff;border: 1px dotted black;border-radius: 0.25em;box-sizing: border-box;margin-bottom: 0.5em;}#sk-container-id-2 div.sk-estimator:hover {background-color: #d4ebff;}#sk-container-id-2 div.sk-parallel-item::after {content: \"\";width: 100%;border-bottom: 1px solid gray;flex-grow: 1;}#sk-container-id-2 div.sk-label:hover label.sk-toggleable__label {background-color: #d4ebff;}#sk-container-id-2 div.sk-serial::before {content: \"\";position: absolute;border-left: 1px solid gray;box-sizing: border-box;top: 0;bottom: 0;left: 50%;z-index: 0;}#sk-container-id-2 div.sk-serial {display: flex;flex-direction: column;align-items: center;background-color: white;padding-right: 0.2em;padding-left: 0.2em;position: relative;}#sk-container-id-2 div.sk-item {position: relative;z-index: 1;}#sk-container-id-2 div.sk-parallel {display: flex;align-items: stretch;justify-content: center;background-color: white;position: relative;}#sk-container-id-2 div.sk-item::before, #sk-container-id-2 div.sk-parallel-item::before {content: \"\";position: absolute;border-left: 1px solid gray;box-sizing: border-box;top: 0;bottom: 0;left: 50%;z-index: -1;}#sk-container-id-2 div.sk-parallel-item {display: flex;flex-direction: column;z-index: 1;position: relative;background-color: white;}#sk-container-id-2 div.sk-parallel-item:first-child::after {align-self: flex-end;width: 50%;}#sk-container-id-2 div.sk-parallel-item:last-child::after {align-self: flex-start;width: 50%;}#sk-container-id-2 div.sk-parallel-item:only-child::after {width: 0;}#sk-container-id-2 div.sk-dashed-wrapped {border: 1px dashed gray;margin: 0 0.4em 0.5em 0.4em;box-sizing: border-box;padding-bottom: 0.4em;background-color: white;}#sk-container-id-2 div.sk-label label {font-family: monospace;font-weight: bold;display: inline-block;line-height: 1.2em;}#sk-container-id-2 div.sk-label-container {text-align: center;}#sk-container-id-2 div.sk-container {/* jupyter's `normalize.less` sets `[hidden] { display: none; }` but bootstrap.min.css set `[hidden] { display: none !important; }` so we also need the `!important` here to be able to override the default hidden behavior on the sphinx rendered scikit-learn.org. See: https://github.com/scikit-learn/scikit-learn/issues/21755 */display: inline-block !important;position: relative;}#sk-container-id-2 div.sk-text-repr-fallback {display: none;}</style><div id=\"sk-container-id-2\" class=\"sk-top-container\"><div class=\"sk-text-repr-fallback\"><pre>LogisticRegression()</pre><b>In a Jupyter environment, please rerun this cell to show the HTML representation or trust the notebook. <br />On GitHub, the HTML representation is unable to render, please try loading this page with nbviewer.org.</b></div><div class=\"sk-container\" hidden><div class=\"sk-item\"><div class=\"sk-estimator sk-toggleable\"><input class=\"sk-toggleable__control sk-hidden--visually\" id=\"sk-estimator-id-5\" type=\"checkbox\" checked><label for=\"sk-estimator-id-5\" class=\"sk-toggleable__label sk-toggleable__label-arrow\">LogisticRegression</label><div class=\"sk-toggleable__content\"><pre>LogisticRegression()</pre></div></div></div></div></div>"
            ]
          },
          "metadata": {},
          "execution_count": 14
        }
      ],
      "source": [
        "log_reg[-1]"
      ]
    },
    {
      "cell_type": "code",
      "execution_count": 15,
      "id": "465c99f1-ce78-4f27-8cbf-766a51144dfc",
      "metadata": {
        "tags": [],
        "id": "465c99f1-ce78-4f27-8cbf-766a51144dfc",
        "outputId": "8d1d25e2-df2f-407a-adf1-d1503dbfff87",
        "colab": {
          "base_uri": "https://localhost:8080/"
        }
      },
      "outputs": [
        {
          "output_type": "execute_result",
          "data": {
            "text/plain": [
              "array(['alcohol', 'flavanoids', 'color_intensity', 'hue',\n",
              "       'od280/od315_of_diluted_wines', 'proline'], dtype=object)"
            ]
          },
          "metadata": {},
          "execution_count": 15
        }
      ],
      "source": [
        "log_reg[-1].feature_names_in_"
      ]
    },
    {
      "cell_type": "markdown",
      "id": "f9029cba-72a7-4529-b3e7-4e5b17140395",
      "metadata": {
        "id": "f9029cba-72a7-4529-b3e7-4e5b17140395"
      },
      "source": [
        "## Exercise 1\n",
        "**~ 4 minutes**\n",
        "\n",
        "1. The Wisconsion cancer data set is loaded into `X` and `y`.\n",
        "1. How many features are there in the dataset?\n",
        "1. Which feature(s) or the dataset are missing?\n",
        "    - **Hint**: Use panda's `isna().sum()`\n",
        "1. Split the data set into a training and test set.\n",
        "    - **Hint**: Remember to use `stratify=y` and `random_state=0` \n",
        "1. Use a `SimpleImputer` with `add_indicator=True` and `set_output(transform=\"pandas\")`\n",
        "1. Run the imputer's `fit_transform` on the training set.\n",
        "1. How many output features are there in the transformed data?\n",
        "1. Are there any new features added to the transformed data?"
      ]
    },
    {
      "cell_type": "code",
      "execution_count": 16,
      "id": "41d2bfa3-9489-4baa-aff2-35679b80effd",
      "metadata": {
        "tags": [],
        "id": "41d2bfa3-9489-4baa-aff2-35679b80effd"
      },
      "outputs": [],
      "source": [
        "from sklearn.datasets import fetch_openml\n",
        "from sklearn.impute import SimpleImputer\n",
        "\n",
        "cancer = fetch_openml(data_id=15, as_frame=True, parser=\"pandas\")\n",
        "X, y = cancer.data, cancer.target"
      ]
    },
    {
      "cell_type": "code",
      "execution_count": null,
      "id": "c2b59b2a-28c9-4e5e-a440-11f2b3dccb2c",
      "metadata": {
        "id": "c2b59b2a-28c9-4e5e-a440-11f2b3dccb2c"
      },
      "outputs": [],
      "source": []
    },
    {
      "cell_type": "markdown",
      "id": "6c230761-73df-4f48-a7fa-b1b5a9c832c2",
      "metadata": {
        "id": "6c230761-73df-4f48-a7fa-b1b5a9c832c2"
      },
      "source": [
        "**If you are running locally**, you can uncomment the following cell to load the solution into the cell. On **Google Colab**, [see solution here](https://github.com/thomasjpfan/ml-workshop-intermediate-v2/blob/main/notebooks/solutions/01-ex01-solutions.py). "
      ]
    },
    {
      "cell_type": "code",
      "execution_count": null,
      "id": "f7d56a95-5b13-438e-81b0-bdf444e6ef51",
      "metadata": {
        "tags": [],
        "id": "f7d56a95-5b13-438e-81b0-bdf444e6ef51"
      },
      "outputs": [],
      "source": [
        "# %load solutions/01-ex01-solutions.py"
      ]
    },
    {
      "cell_type": "markdown",
      "id": "3250d55a-da27-4dc5-a1cb-97e6b626fdaa",
      "metadata": {
        "id": "3250d55a-da27-4dc5-a1cb-97e6b626fdaa"
      },
      "source": [
        "## Exercise 2\n",
        "**~ 5 minutes**\n",
        "\n",
        "1. Build a pipeline named `pipe`, with the `StandardScaler`, `KNNImputer(add_indicator=True)`, and `LogisticRegression` and configured for pandas output.\n",
        "1. Train the pipeline on the Wisconsion cancer training set and evaluate the performance of the model on the test set.\n",
        "1. Create a pandas series where the values is the coefficients of `LogisticRegression` and index is the `feature_names_in_`.\n",
        "    - **Hint**: The logistic regression estimator is the final step of the pipeline. (`pipe[-1]`)\n",
        "    - **Hint**: The coefficients are stored as `coef_` in logistic regression estimator. (Use `ravel` to flatten the `coef_` array)\n",
        "1. Which feature has a negative impact on cancer?"
      ]
    },
    {
      "cell_type": "code",
      "execution_count": null,
      "id": "72c88a30-5c9f-416f-a572-86fb5b4afbec",
      "metadata": {
        "tags": [],
        "id": "72c88a30-5c9f-416f-a572-86fb5b4afbec"
      },
      "outputs": [],
      "source": [
        "from sklearn.impute import KNNImputer\n",
        "import pandas as pd"
      ]
    },
    {
      "cell_type": "code",
      "execution_count": null,
      "id": "464f2941-f437-437f-ac5a-7c46bb21ef20",
      "metadata": {
        "id": "464f2941-f437-437f-ac5a-7c46bb21ef20"
      },
      "outputs": [],
      "source": []
    },
    {
      "cell_type": "markdown",
      "id": "e216aa3a-cfc4-48d5-a112-78e084d32b1b",
      "metadata": {
        "id": "e216aa3a-cfc4-48d5-a112-78e084d32b1b"
      },
      "source": [
        "**If you are running locally**, you can uncomment the following cell to load the solution into the cell. On **Google Colab**, [see solution here](https://github.com/thomasjpfan/ml-workshop-intermediate-v2/blob/main/notebooks/solutions/01-ex02-solutions.py). "
      ]
    },
    {
      "cell_type": "code",
      "execution_count": null,
      "id": "bd6fcc89-6793-4502-aae5-a959efebc6a3",
      "metadata": {
        "tags": [],
        "id": "bd6fcc89-6793-4502-aae5-a959efebc6a3"
      },
      "outputs": [],
      "source": [
        "# %load solutions/01-ex02-solutions.py"
      ]
    },
    {
      "cell_type": "markdown",
      "id": "5e5b51df-84b7-4db3-97c6-88ff72f01929",
      "metadata": {
        "id": "5e5b51df-84b7-4db3-97c6-88ff72f01929"
      },
      "source": [
        "## Global configuration\n",
        "\n",
        "Output pandas by default!"
      ]
    },
    {
      "cell_type": "code",
      "execution_count": null,
      "id": "e524cd72-6ce1-466a-aa06-680272a8d896",
      "metadata": {
        "tags": [],
        "id": "e524cd72-6ce1-466a-aa06-680272a8d896"
      },
      "outputs": [],
      "source": [
        "import sklearn\n",
        "sklearn.set_config(transform_output=\"pandas\")"
      ]
    },
    {
      "cell_type": "code",
      "execution_count": null,
      "id": "fb13062a-aed9-4440-aaf8-b0cf40b3752c",
      "metadata": {
        "tags": [],
        "id": "fb13062a-aed9-4440-aaf8-b0cf40b3752c"
      },
      "outputs": [],
      "source": [
        "cancer = fetch_openml(data_id=15, as_frame=True, parser=\"pandas\")\n",
        "X, y = cancer.data, cancer.target\n",
        "\n",
        "X_train, X_test, y_train, y_test = train_test_split(\n",
        "    X, y, stratify=y, random_state=0\n",
        ")"
      ]
    },
    {
      "cell_type": "code",
      "execution_count": null,
      "id": "f6524691-e6d7-4b79-b627-7075f8837bd8",
      "metadata": {
        "tags": [],
        "id": "f6524691-e6d7-4b79-b627-7075f8837bd8"
      },
      "outputs": [],
      "source": [
        "scaler = SimpleImputer(add_indicator=True)"
      ]
    },
    {
      "cell_type": "code",
      "execution_count": null,
      "id": "67ae044b-bf46-4e68-bca9-ff545e153533",
      "metadata": {
        "tags": [],
        "id": "67ae044b-bf46-4e68-bca9-ff545e153533"
      },
      "outputs": [],
      "source": [
        "scaler.fit_transform(X_train)"
      ]
    }
  ],
  "metadata": {
    "kernelspec": {
      "display_name": "Python 3 (ipykernel)",
      "language": "python",
      "name": "python3"
    },
    "language_info": {
      "codemirror_mode": {
        "name": "ipython",
        "version": 3
      },
      "file_extension": ".py",
      "mimetype": "text/x-python",
      "name": "python",
      "nbconvert_exporter": "python",
      "pygments_lexer": "ipython3",
      "version": "3.10.10"
    },
    "colab": {
      "provenance": []
    }
  },
  "nbformat": 4,
  "nbformat_minor": 5
}