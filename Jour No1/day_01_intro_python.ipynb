{
  "cells": [
    {
      "cell_type": "markdown",
      "id": "12aa2207-cfa3-476b-8046-5fa53043f21a",
      "metadata": {
        "id": "12aa2207-cfa3-476b-8046-5fa53043f21a"
      },
      "source": [
        "# ***Introduction generale au language python***\n",
        "\n",
        "*Par [Abdoulaye Balde](https://www.linkedin.com/in/abdoulayegk/)*"
      ]
    },
    {
      "cell_type": "markdown",
      "id": "a32ff63b-99b7-4107-a831-b3929a0d1dee",
      "metadata": {
        "id": "a32ff63b-99b7-4107-a831-b3929a0d1dee"
      },
      "source": [
        "# Jour 1: Introduction general sur le compete d’IA\n",
        "1. Plan du cours et objectifs et les outils à installer pour la formation\n",
        "2. Définition et concepts clés de l'intelligence artificielle\n",
        "3. Applications et domaines d'application de l'intelligence artificielle\n",
        "4. Apprendre les différents types des données pour faire de l’analyse de données(Quantitative Et Qualitative)\n",
        "5. Introduction general du langage python (rappel sur varialbel, list, dictionnaire, tuple, fonctions)\n"
      ]
    },
    {
      "cell_type": "markdown",
      "id": "3dd8142d-4555-456b-b75d-f378a6b69071",
      "metadata": {
        "id": "3dd8142d-4555-456b-b75d-f378a6b69071"
      },
      "source": [
        "## **Le programme 'Hello World'**"
      ]
    },
    {
      "cell_type": "code",
      "execution_count": null,
      "id": "ee49f101-6a8e-44c9-bf15-30d55a4e9e61",
      "metadata": {
        "id": "ee49f101-6a8e-44c9-bf15-30d55a4e9e61",
        "outputId": "75046dbe-8adb-4287-dca5-220b197db367"
      },
      "outputs": [
        {
          "data": {
            "text/plain": [
              "'Hello World'"
            ]
          },
          "execution_count": 3,
          "metadata": {},
          "output_type": "execute_result"
        }
      ],
      "source": [
        "# Ecrire 'Hello World'\n",
        "'Hello World'"
      ]
    },
    {
      "cell_type": "code",
      "execution_count": null,
      "id": "c26440be-06eb-4efb-841f-a1d7407187df",
      "metadata": {
        "id": "c26440be-06eb-4efb-841f-a1d7407187df",
        "outputId": "be0e7437-8a82-46ce-ab8a-5c946b38ee1d"
      },
      "outputs": [
        {
          "name": "stdout",
          "output_type": "stream",
          "text": [
            "Hello World\n"
          ]
        },
        {
          "data": {
            "text/plain": [
              "2"
            ]
          },
          "execution_count": 4,
          "metadata": {},
          "output_type": "execute_result"
        }
      ],
      "source": [
        "# Affichez 'Hello World' avec un print\n",
        "\n",
        "print('Hello World')\n",
        "2"
      ]
    },
    {
      "cell_type": "code",
      "execution_count": null,
      "id": "0ddd1b01-8029-4eca-bbe5-01ec9ac7b8d4",
      "metadata": {
        "id": "0ddd1b01-8029-4eca-bbe5-01ec9ac7b8d4",
        "outputId": "31e6d9e6-a939-4bf1-a27b-76e189c72a2e"
      },
      "outputs": [
        {
          "name": "stdout",
          "output_type": "stream",
          "text": [
            "Hello World\n",
            "je m'appelle Abdoulaye\n"
          ]
        }
      ],
      "source": [
        "# Hello World, je m'appelle Abdoulaye sur 02 lignes\n",
        "print(\"Hello World\\nje m'appelle Abdoulaye\")"
      ]
    },
    {
      "cell_type": "markdown",
      "id": "e549ae81-4d94-48c3-b0e5-63c523967c75",
      "metadata": {
        "id": "e549ae81-4d94-48c3-b0e5-63c523967c75"
      },
      "source": [
        "Python peut être utilisée comme une simple calculatrice pour mener les opérations basiques :\n",
        "\n",
        "* **Addition** : +\n",
        "\n",
        "* **Soustraction** : -\n",
        "\n",
        "* **Multiplication** : *\n",
        "\n",
        "* **Division** : /\n",
        "\n",
        "* **Dinvision entière** : //\n",
        "\n",
        "* **Modulo(Reste)** : %"
      ]
    },
    {
      "cell_type": "markdown",
      "id": "a595cda4-08e2-4294-bcd1-9e1838e881c6",
      "metadata": {
        "id": "a595cda4-08e2-4294-bcd1-9e1838e881c6"
      },
      "source": [
        "# Demo a faire"
      ]
    },
    {
      "cell_type": "code",
      "execution_count": null,
      "id": "9463ea58-eb7d-4aa1-a4dd-3616da315f8d",
      "metadata": {
        "colab": {
          "base_uri": "https://localhost:8080/"
        },
        "id": "9463ea58-eb7d-4aa1-a4dd-3616da315f8d",
        "outputId": "ad3916d5-4734-4f89-e7b4-7d3502de8716"
      },
      "outputs": [
        {
          "output_type": "execute_result",
          "data": {
            "text/plain": [
              "8"
            ]
          },
          "metadata": {},
          "execution_count": 1
        }
      ],
      "source": [
        "# Addition (Réalisez une addition de votre choix)\n",
        "\n",
        "2+6"
      ]
    },
    {
      "cell_type": "code",
      "source": [
        "5/2"
      ],
      "metadata": {
        "colab": {
          "base_uri": "https://localhost:8080/"
        },
        "id": "9fjehpkQQQpJ",
        "outputId": "dc869d9c-817f-4cce-e3e3-661280e2d32b"
      },
      "id": "9fjehpkQQQpJ",
      "execution_count": null,
      "outputs": [
        {
          "output_type": "execute_result",
          "data": {
            "text/plain": [
              "2.5"
            ]
          },
          "metadata": {},
          "execution_count": 2
        }
      ]
    },
    {
      "cell_type": "code",
      "source": [
        "5//2"
      ],
      "metadata": {
        "colab": {
          "base_uri": "https://localhost:8080/"
        },
        "id": "wxyjZhKVQb1F",
        "outputId": "8b1eb6cc-75b7-45db-e35f-93f0319708ac"
      },
      "id": "wxyjZhKVQb1F",
      "execution_count": null,
      "outputs": [
        {
          "output_type": "execute_result",
          "data": {
            "text/plain": [
              "2"
            ]
          },
          "metadata": {},
          "execution_count": 3
        }
      ]
    },
    {
      "cell_type": "code",
      "execution_count": null,
      "id": "9f467f97-dac6-4a72-bce0-7715e65a5449",
      "metadata": {
        "id": "9f467f97-dac6-4a72-bce0-7715e65a5449"
      },
      "outputs": [],
      "source": [
        "# Soustraction (Réalisez une addition de votre choix)\n"
      ]
    },
    {
      "cell_type": "code",
      "execution_count": null,
      "id": "95293276-3fec-4d68-bd96-c3b1b19a4d40",
      "metadata": {
        "id": "95293276-3fec-4d68-bd96-c3b1b19a4d40"
      },
      "outputs": [],
      "source": [
        "# Multiplication (Réalisez une addition de votre choix)"
      ]
    },
    {
      "cell_type": "code",
      "execution_count": null,
      "id": "fbf8f625-887e-4435-aa43-ad5e22d7ccaa",
      "metadata": {
        "id": "fbf8f625-887e-4435-aa43-ad5e22d7ccaa"
      },
      "outputs": [],
      "source": [
        "# Puissance avec **\n",
        "\n",
        "\n",
        "# se lit : 5 puissance 3 ; équivaut à 5 * 5 * 5"
      ]
    },
    {
      "cell_type": "code",
      "execution_count": null,
      "id": "fe137809-845b-4d89-bee3-35245b22b339",
      "metadata": {
        "id": "fe137809-845b-4d89-bee3-35245b22b339"
      },
      "outputs": [],
      "source": [
        "# Division (Réalisez une addition de votre choix)"
      ]
    },
    {
      "cell_type": "code",
      "execution_count": null,
      "id": "b7405804-762b-4e3c-b0d7-4046de40ab18",
      "metadata": {
        "id": "b7405804-762b-4e3c-b0d7-4046de40ab18"
      },
      "outputs": [],
      "source": [
        "\n",
        "# Division entiere (Réalisez une addition de votre choix)"
      ]
    },
    {
      "cell_type": "code",
      "execution_count": null,
      "id": "f46935bb-85f5-4b48-96bc-e402f4329db8",
      "metadata": {
        "id": "f46935bb-85f5-4b48-96bc-e402f4329db8"
      },
      "outputs": [],
      "source": [
        "# Opérateur modulo % (il retourne le reste de la division)\n",
        "#5 % 2\n"
      ]
    },
    {
      "cell_type": "markdown",
      "id": "a542bcd6-1804-4917-b804-21e280d66069",
      "metadata": {
        "id": "a542bcd6-1804-4917-b804-21e280d66069"
      },
      "source": [
        "## **Types des objets**\n",
        "\n",
        "La fonction **type()** permet de déterminer le type de tout objet Python (Python est un langage de programmation orientée-objet)."
      ]
    },
    {
      "cell_type": "code",
      "execution_count": null,
      "id": "3bb0b2d1-dc54-4a90-800a-58493af444c5",
      "metadata": {
        "colab": {
          "base_uri": "https://localhost:8080/"
        },
        "id": "3bb0b2d1-dc54-4a90-800a-58493af444c5",
        "outputId": "30fbd7e1-a276-40ed-bc4a-02bd4765abfd"
      },
      "outputs": [
        {
          "output_type": "execute_result",
          "data": {
            "text/plain": [
              "int"
            ]
          },
          "metadata": {},
          "execution_count": 4
        }
      ],
      "source": [
        "type(10)"
      ]
    },
    {
      "cell_type": "code",
      "execution_count": null,
      "id": "78852cc2-5e2a-48c8-9ba0-8fac6a0d1fdf",
      "metadata": {
        "id": "78852cc2-5e2a-48c8-9ba0-8fac6a0d1fdf"
      },
      "outputs": [],
      "source": [
        "a,b,c = 2,4,6"
      ]
    },
    {
      "cell_type": "code",
      "execution_count": null,
      "id": "8a534c98-a076-4c4f-b478-fbb68b371a83",
      "metadata": {
        "colab": {
          "base_uri": "https://localhost:8080/"
        },
        "id": "8a534c98-a076-4c4f-b478-fbb68b371a83",
        "outputId": "0e5edbee-7ba5-405f-a0cc-d6ed23a8e43f"
      },
      "outputs": [
        {
          "output_type": "execute_result",
          "data": {
            "text/plain": [
              "2"
            ]
          },
          "metadata": {},
          "execution_count": 6
        }
      ],
      "source": [
        "a"
      ]
    },
    {
      "cell_type": "code",
      "execution_count": null,
      "id": "47bdc2f4-bf71-4097-b614-b13af7606de0",
      "metadata": {
        "colab": {
          "base_uri": "https://localhost:8080/"
        },
        "id": "47bdc2f4-bf71-4097-b614-b13af7606de0",
        "outputId": "1af073fb-04e0-4047-960a-ebf1753dbf9c"
      },
      "outputs": [
        {
          "output_type": "execute_result",
          "data": {
            "text/plain": [
              "6"
            ]
          },
          "metadata": {},
          "execution_count": 7
        }
      ],
      "source": [
        "c"
      ]
    },
    {
      "cell_type": "code",
      "execution_count": null,
      "id": "7d78bd61-3a8d-490a-b1aa-73bc07b08b38",
      "metadata": {
        "id": "7d78bd61-3a8d-490a-b1aa-73bc07b08b38"
      },
      "outputs": [],
      "source": []
    },
    {
      "cell_type": "markdown",
      "id": "f801be21-5888-4236-be04-4286ca205073",
      "metadata": {
        "id": "f801be21-5888-4236-be04-4286ca205073"
      },
      "source": [
        "# **Les variables**\n",
        "\n",
        "Les variables constituent l’un des principaux concepts en Programmation informatique. Ce sont des emplacements de mémoire qui peuvent stocker des éléments de tout type. Dans Python, les variables sont introduites de la même manière qu'en Mathématiques, en utilisant le symbole égal (**=**)."
      ]
    },
    {
      "cell_type": "code",
      "execution_count": null,
      "id": "df4fbcef-6e22-4619-bc14-1aef09c8b7b1",
      "metadata": {
        "colab": {
          "base_uri": "https://localhost:8080/"
        },
        "id": "df4fbcef-6e22-4619-bc14-1aef09c8b7b1",
        "outputId": "1340d275-2bca-41fe-cb17-d7109676bb3e"
      },
      "outputs": [
        {
          "output_type": "execute_result",
          "data": {
            "text/plain": [
              "10"
            ]
          },
          "metadata": {},
          "execution_count": 8
        }
      ],
      "source": [
        "# Variale x\n",
        "x = 10\n",
        "\n",
        "# Affichage de la variable x\n",
        "x"
      ]
    },
    {
      "cell_type": "markdown",
      "id": "81b58a0d-4dca-4566-b5f0-aadbf818b400",
      "metadata": {
        "id": "81b58a0d-4dca-4566-b5f0-aadbf818b400"
      },
      "source": [
        "L'intérêt de créer des variables, c'est de pouvoir les utiliser ultérieurement dans le code."
      ]
    },
    {
      "cell_type": "code",
      "execution_count": null,
      "id": "fd3edf0e-deed-41c2-987d-d4fbd4684335",
      "metadata": {
        "colab": {
          "base_uri": "https://localhost:8080/"
        },
        "id": "fd3edf0e-deed-41c2-987d-d4fbd4684335",
        "outputId": "c3f957b3-1920-4e41-ec2d-5903b270238a"
      },
      "outputs": [
        {
          "output_type": "execute_result",
          "data": {
            "text/plain": [
              "20"
            ]
          },
          "metadata": {},
          "execution_count": 9
        }
      ],
      "source": [
        "# Utilisation de la variable x pour définir une autre variable y\n",
        "\n",
        "y = x * 2\n",
        "y"
      ]
    },
    {
      "cell_type": "code",
      "source": [
        "x"
      ],
      "metadata": {
        "colab": {
          "base_uri": "https://localhost:8080/"
        },
        "id": "_eMZUi8jTw1W",
        "outputId": "392c940a-2851-406b-80ef-e0de89f59f53"
      },
      "id": "_eMZUi8jTw1W",
      "execution_count": null,
      "outputs": [
        {
          "output_type": "execute_result",
          "data": {
            "text/plain": [
              "10"
            ]
          },
          "metadata": {},
          "execution_count": 10
        }
      ]
    },
    {
      "cell_type": "markdown",
      "id": "3bc4ac5b-9b2c-4654-bb97-f9a8fad1e20b",
      "metadata": {
        "id": "3bc4ac5b-9b2c-4654-bb97-f9a8fad1e20b"
      },
      "source": [
        "# Exeercice d'application\n",
        "\n",
        "1. Affecte 19 à la variable z. Quel est le type de la variable z ?\n",
        "2. Affecte z + 1 à la variable z\n",
        "3. Affecte z divisé par 5 à la variable z\n",
        "4. Affecte z puissance 2 à la variale z\n",
        "5. Quelle est la valeur de z ? Quel est son type ?\n"
      ]
    },
    {
      "cell_type": "markdown",
      "id": "a07513f3-dc6f-4a72-8881-982ddda6d9d5",
      "metadata": {
        "id": "a07513f3-dc6f-4a72-8881-982ddda6d9d5"
      },
      "source": [
        "# Solution des exo"
      ]
    },
    {
      "cell_type": "code",
      "execution_count": null,
      "id": "4680cb0a-38da-47b3-b59b-c84b3cd0e587",
      "metadata": {
        "id": "4680cb0a-38da-47b3-b59b-c84b3cd0e587"
      },
      "outputs": [],
      "source": []
    },
    {
      "cell_type": "code",
      "execution_count": null,
      "id": "5f7b5d65-a4df-4fdf-8a1b-5556f7d68c53",
      "metadata": {
        "id": "5f7b5d65-a4df-4fdf-8a1b-5556f7d68c53"
      },
      "outputs": [],
      "source": []
    },
    {
      "cell_type": "code",
      "execution_count": null,
      "id": "aba582ac-de21-4816-85f3-03d5fb93c239",
      "metadata": {
        "id": "aba582ac-de21-4816-85f3-03d5fb93c239"
      },
      "outputs": [],
      "source": []
    },
    {
      "cell_type": "code",
      "execution_count": null,
      "id": "52be5b3a-c393-474e-ac45-04e88c6598b4",
      "metadata": {
        "id": "52be5b3a-c393-474e-ac45-04e88c6598b4"
      },
      "outputs": [],
      "source": []
    },
    {
      "cell_type": "code",
      "execution_count": null,
      "id": "f7f103dc-eb50-4395-b250-3916ee221a7d",
      "metadata": {
        "id": "f7f103dc-eb50-4395-b250-3916ee221a7d"
      },
      "outputs": [],
      "source": []
    },
    {
      "cell_type": "code",
      "execution_count": null,
      "id": "477a3a4e-0d5e-4c6d-a303-4f35b1268016",
      "metadata": {
        "id": "477a3a4e-0d5e-4c6d-a303-4f35b1268016",
        "outputId": "0a498bd6-51c6-447d-f01d-8023f2c1498b"
      },
      "outputs": [
        {
          "name": "stdout",
          "output_type": "stream",
          "text": [
            "10\n",
            "3\n",
            "0\n"
          ]
        }
      ],
      "source": [
        "# Définition de plusieurs variables sur une même ligne\n",
        "a, b, c = 10, 3, 0\n",
        "print(a)\n",
        "print(b)\n",
        "print(c)"
      ]
    },
    {
      "cell_type": "markdown",
      "id": "05c3db99-4241-4add-b46f-c447e9f8d30b",
      "metadata": {
        "id": "05c3db99-4241-4add-b46f-c447e9f8d30b"
      },
      "source": [
        "## **Quelques méthodes applicables aux chaînes de caractères**"
      ]
    },
    {
      "cell_type": "markdown",
      "id": "f5202efd-3427-471e-88af-b3f7f25143f9",
      "metadata": {
        "id": "f5202efd-3427-471e-88af-b3f7f25143f9"
      },
      "source": [
        "Le langage python nous offre plusieures methodes pour manipuler les chaine des caracteres tels que:\n",
        "\n",
        "1. upper\n",
        "2. lower\n",
        "3. replace\n",
        "4. capitalize\n",
        "5. title\n",
        "6. split\n",
        "7. join\n",
        "8. find\n",
        "9. count"
      ]
    },
    {
      "cell_type": "code",
      "source": [
        "m = \"bonjour orange digital center\""
      ],
      "metadata": {
        "id": "dATv7NYiVpIn"
      },
      "id": "dATv7NYiVpIn",
      "execution_count": null,
      "outputs": []
    },
    {
      "cell_type": "code",
      "source": [
        "m.upper()"
      ],
      "metadata": {
        "colab": {
          "base_uri": "https://localhost:8080/",
          "height": 42
        },
        "id": "_UzWOe2OVoJJ",
        "outputId": "db49b8b4-d6d9-4fc4-a186-7aa3b5227df2"
      },
      "id": "_UzWOe2OVoJJ",
      "execution_count": null,
      "outputs": [
        {
          "output_type": "execute_result",
          "data": {
            "text/plain": [
              "'BONJOUR ORANGE DIGITAL CENTER'"
            ],
            "application/vnd.google.colaboratory.intrinsic+json": {
              "type": "string"
            }
          },
          "metadata": {},
          "execution_count": 12
        }
      ]
    },
    {
      "cell_type": "code",
      "source": [
        "m.upper().lower()"
      ],
      "metadata": {
        "colab": {
          "base_uri": "https://localhost:8080/",
          "height": 42
        },
        "id": "S5ENXGOdWCb7",
        "outputId": "a3854c08-6a7a-4149-9435-c578a9b9f48a"
      },
      "id": "S5ENXGOdWCb7",
      "execution_count": null,
      "outputs": [
        {
          "output_type": "execute_result",
          "data": {
            "text/plain": [
              "'bonjour orange digital center'"
            ],
            "application/vnd.google.colaboratory.intrinsic+json": {
              "type": "string"
            }
          },
          "metadata": {},
          "execution_count": 14
        }
      ]
    },
    {
      "cell_type": "code",
      "source": [
        "m.replace(\"center\", 'conakry')"
      ],
      "metadata": {
        "colab": {
          "base_uri": "https://localhost:8080/",
          "height": 42
        },
        "id": "i7Pb_49OWCZE",
        "outputId": "95dfc07f-a522-4884-bac4-2bffdbc16ebf"
      },
      "id": "i7Pb_49OWCZE",
      "execution_count": null,
      "outputs": [
        {
          "output_type": "execute_result",
          "data": {
            "text/plain": [
              "'bonjour orange digital conakry'"
            ],
            "application/vnd.google.colaboratory.intrinsic+json": {
              "type": "string"
            }
          },
          "metadata": {},
          "execution_count": 15
        }
      ]
    },
    {
      "cell_type": "code",
      "source": [
        "m.capitalize()"
      ],
      "metadata": {
        "colab": {
          "base_uri": "https://localhost:8080/",
          "height": 42
        },
        "id": "xIWWOYbZWCWj",
        "outputId": "755bae0f-76c0-4af7-be5f-0a7ff7e00ea5"
      },
      "id": "xIWWOYbZWCWj",
      "execution_count": null,
      "outputs": [
        {
          "output_type": "execute_result",
          "data": {
            "text/plain": [
              "'Bonjour orange digital center'"
            ],
            "application/vnd.google.colaboratory.intrinsic+json": {
              "type": "string"
            }
          },
          "metadata": {},
          "execution_count": 16
        }
      ]
    },
    {
      "cell_type": "code",
      "source": [
        "m.title()"
      ],
      "metadata": {
        "colab": {
          "base_uri": "https://localhost:8080/",
          "height": 42
        },
        "id": "F1sMfv9gWCT6",
        "outputId": "466f7074-299d-4345-93e7-962f3916162c"
      },
      "id": "F1sMfv9gWCT6",
      "execution_count": null,
      "outputs": [
        {
          "output_type": "execute_result",
          "data": {
            "text/plain": [
              "'Bonjour Orange Digital Center'"
            ],
            "application/vnd.google.colaboratory.intrinsic+json": {
              "type": "string"
            }
          },
          "metadata": {},
          "execution_count": 17
        }
      ]
    },
    {
      "cell_type": "code",
      "source": [
        "'_'.join(m)"
      ],
      "metadata": {
        "colab": {
          "base_uri": "https://localhost:8080/",
          "height": 42
        },
        "id": "o8Btk8e4WCRZ",
        "outputId": "07da95a4-f062-4b5d-b3ab-7fdf077b2d4b"
      },
      "id": "o8Btk8e4WCRZ",
      "execution_count": null,
      "outputs": [
        {
          "output_type": "execute_result",
          "data": {
            "text/plain": [
              "'b_o_n_j_o_u_r_ _o_r_a_n_g_e_ _d_i_g_i_t_a_l_ _c_e_n_t_e_r'"
            ],
            "application/vnd.google.colaboratory.intrinsic+json": {
              "type": "string"
            }
          },
          "metadata": {},
          "execution_count": 18
        }
      ]
    },
    {
      "cell_type": "code",
      "source": [],
      "metadata": {
        "id": "2tNqDKrwWCO_"
      },
      "id": "2tNqDKrwWCO_",
      "execution_count": null,
      "outputs": []
    },
    {
      "cell_type": "code",
      "source": [],
      "metadata": {
        "id": "nRB1mLewWCMK"
      },
      "id": "nRB1mLewWCMK",
      "execution_count": null,
      "outputs": []
    },
    {
      "cell_type": "code",
      "source": [],
      "metadata": {
        "id": "_1TRqX4TWCJi"
      },
      "id": "_1TRqX4TWCJi",
      "execution_count": null,
      "outputs": []
    },
    {
      "cell_type": "code",
      "source": [],
      "metadata": {
        "id": "PFSKfBSAWCHJ"
      },
      "id": "PFSKfBSAWCHJ",
      "execution_count": null,
      "outputs": []
    },
    {
      "cell_type": "code",
      "source": [],
      "metadata": {
        "id": "ccoIpuoJWCFI"
      },
      "id": "ccoIpuoJWCFI",
      "execution_count": null,
      "outputs": []
    },
    {
      "cell_type": "code",
      "source": [],
      "metadata": {
        "id": "SGO29qjdWCBE"
      },
      "id": "SGO29qjdWCBE",
      "execution_count": null,
      "outputs": []
    },
    {
      "cell_type": "code",
      "source": [],
      "metadata": {
        "id": "noEUuRnTWB-Q"
      },
      "id": "noEUuRnTWB-Q",
      "execution_count": null,
      "outputs": []
    },
    {
      "cell_type": "code",
      "source": [],
      "metadata": {
        "id": "rjExg5fXWB7f"
      },
      "id": "rjExg5fXWB7f",
      "execution_count": null,
      "outputs": []
    },
    {
      "cell_type": "code",
      "source": [],
      "metadata": {
        "id": "DFUCGR0wWB45"
      },
      "id": "DFUCGR0wWB45",
      "execution_count": null,
      "outputs": []
    },
    {
      "cell_type": "code",
      "source": [],
      "metadata": {
        "id": "ntOhG8nMWB1i"
      },
      "id": "ntOhG8nMWB1i",
      "execution_count": null,
      "outputs": []
    },
    {
      "cell_type": "code",
      "source": [],
      "metadata": {
        "id": "hoRrrCCVWByO"
      },
      "id": "hoRrrCCVWByO",
      "execution_count": null,
      "outputs": []
    },
    {
      "cell_type": "code",
      "execution_count": null,
      "id": "f4521915-81c4-43ae-8bc8-9b0e5b54a0d8",
      "metadata": {
        "id": "f4521915-81c4-43ae-8bc8-9b0e5b54a0d8",
        "outputId": "27660086-78a2-439a-d179-adcce29eb55a"
      },
      "outputs": [
        {
          "data": {
            "text/plain": [
              "'HELLO WORLD'"
            ]
          },
          "execution_count": 18,
          "metadata": {},
          "output_type": "execute_result"
        }
      ],
      "source": [
        "# Méthode upper\n",
        "'Hello World'.upper()"
      ]
    },
    {
      "cell_type": "code",
      "execution_count": null,
      "id": "0d398f9c-5636-4c7e-b60e-1dcd4bc4dbd3",
      "metadata": {
        "id": "0d398f9c-5636-4c7e-b60e-1dcd4bc4dbd3",
        "outputId": "5cb1df46-c4cf-433c-e788-f7f1397ee022"
      },
      "outputs": [
        {
          "data": {
            "text/plain": [
              "'Abdoulaye Balde'"
            ]
          },
          "execution_count": 21,
          "metadata": {},
          "output_type": "execute_result"
        }
      ],
      "source": [
        "'abdoulaye balde'.title()"
      ]
    },
    {
      "cell_type": "code",
      "execution_count": null,
      "id": "18154cda-2ef1-4719-9c5e-9ee6015e634b",
      "metadata": {
        "id": "18154cda-2ef1-4719-9c5e-9ee6015e634b"
      },
      "outputs": [],
      "source": [
        "s = \"La guinee est un pays riche mais\""
      ]
    },
    {
      "cell_type": "code",
      "execution_count": null,
      "id": "ce35606f-4234-4cdf-b64f-49d53a5fb802",
      "metadata": {
        "id": "ce35606f-4234-4cdf-b64f-49d53a5fb802",
        "outputId": "677a4c59-61d7-48c5-9eba-e6aed5984b1e"
      },
      "outputs": [
        {
          "data": {
            "text/plain": [
              "'L-a- -g-u-i-n-e-e- -e-s-t- -u-n- -p-a-y-s- -r-i-c-h-e- -m-a-i-s'"
            ]
          },
          "execution_count": 23,
          "metadata": {},
          "output_type": "execute_result"
        }
      ],
      "source": [
        "# Méthode join\n",
        "'-'.join(s)"
      ]
    },
    {
      "cell_type": "code",
      "execution_count": null,
      "id": "0b0da877-1b09-4ac8-b46b-58d5a263cf95",
      "metadata": {
        "id": "0b0da877-1b09-4ac8-b46b-58d5a263cf95",
        "outputId": "61fea8f1-4d2f-414c-f73c-12a45d715e8d"
      },
      "outputs": [
        {
          "data": {
            "text/plain": [
              "['Orange', '7']"
            ]
          },
          "execution_count": 25,
          "metadata": {},
          "output_type": "execute_result"
        }
      ],
      "source": [
        "# Méthode split avec argument\n",
        "\n",
        "c = 'Orange-7'\n",
        "c.split('-')"
      ]
    },
    {
      "cell_type": "code",
      "execution_count": null,
      "id": "8b515072-7b00-4fb1-a98d-25cdb54d5413",
      "metadata": {
        "id": "8b515072-7b00-4fb1-a98d-25cdb54d5413"
      },
      "outputs": [],
      "source": []
    },
    {
      "cell_type": "code",
      "execution_count": null,
      "id": "c6691268-8e8e-467d-a28f-064b29e8f10d",
      "metadata": {
        "id": "c6691268-8e8e-467d-a28f-064b29e8f10d"
      },
      "outputs": [],
      "source": []
    },
    {
      "cell_type": "code",
      "execution_count": null,
      "id": "a704151f-cb3a-4da9-bb3f-94f9e0120792",
      "metadata": {
        "id": "a704151f-cb3a-4da9-bb3f-94f9e0120792"
      },
      "outputs": [],
      "source": []
    },
    {
      "cell_type": "markdown",
      "id": "620aeb73-76be-4e2a-9119-256556cadcc3",
      "metadata": {
        "id": "620aeb73-76be-4e2a-9119-256556cadcc3"
      },
      "source": [
        "## **L'indexation**"
      ]
    },
    {
      "cell_type": "markdown",
      "id": "7e612f24-5104-4029-8207-fc2b8c174825",
      "metadata": {
        "id": "7e612f24-5104-4029-8207-fc2b8c174825"
      },
      "source": [
        "L'indice est la position d'un élément. Dans Python, l'indexation commence par 0 c'est-à-dire qu'on compte à partir de O jusqu'a n-1 ou n est le d'elements."
      ]
    },
    {
      "cell_type": "code",
      "execution_count": null,
      "id": "9fc7b49e-294c-4f2a-8e06-340b62eda140",
      "metadata": {
        "colab": {
          "base_uri": "https://localhost:8080/",
          "height": 42
        },
        "id": "9fc7b49e-294c-4f2a-8e06-340b62eda140",
        "outputId": "94a4e7fe-aaf8-4254-e95b-3ffa103eb599"
      },
      "outputs": [
        {
          "output_type": "execute_result",
          "data": {
            "text/plain": [
              "'D'"
            ],
            "application/vnd.google.colaboratory.intrinsic+json": {
              "type": "string"
            }
          },
          "metadata": {},
          "execution_count": 19
        }
      ],
      "source": [
        "# Récupération du 1er, 2è et 5è élémént du mot 'Digitalisation'\n",
        "word = 'Digitalisation'\n",
        "word[0]"
      ]
    },
    {
      "cell_type": "code",
      "execution_count": null,
      "id": "2f3d09dc-8edf-424d-b4e6-3f5a93b594ea",
      "metadata": {
        "colab": {
          "base_uri": "https://localhost:8080/",
          "height": 42
        },
        "id": "2f3d09dc-8edf-424d-b4e6-3f5a93b594ea",
        "outputId": "3e70364f-4da6-4050-e41b-cb6a5aa9d703"
      },
      "outputs": [
        {
          "output_type": "execute_result",
          "data": {
            "text/plain": [
              "'i'"
            ],
            "application/vnd.google.colaboratory.intrinsic+json": {
              "type": "string"
            }
          },
          "metadata": {},
          "execution_count": 21
        }
      ],
      "source": [
        "word[3]"
      ]
    },
    {
      "cell_type": "code",
      "execution_count": null,
      "id": "4c4c00f5-667e-4416-8184-c15272593104",
      "metadata": {
        "colab": {
          "base_uri": "https://localhost:8080/",
          "height": 42
        },
        "id": "4c4c00f5-667e-4416-8184-c15272593104",
        "outputId": "7da497cb-1ad8-4cfd-b054-a14927a3e5cb"
      },
      "outputs": [
        {
          "output_type": "execute_result",
          "data": {
            "text/plain": [
              "'Digital'"
            ],
            "application/vnd.google.colaboratory.intrinsic+json": {
              "type": "string"
            }
          },
          "metadata": {},
          "execution_count": 22
        }
      ],
      "source": [
        "word[:7]"
      ]
    },
    {
      "cell_type": "code",
      "execution_count": null,
      "id": "8b08ba6f-1e56-4b35-b443-cc6a88a9c862",
      "metadata": {
        "colab": {
          "base_uri": "https://localhost:8080/",
          "height": 42
        },
        "id": "8b08ba6f-1e56-4b35-b443-cc6a88a9c862",
        "outputId": "00941f8b-b842-4fc7-c631-4acc34f2391e"
      },
      "outputs": [
        {
          "output_type": "execute_result",
          "data": {
            "text/plain": [
              "'tal'"
            ],
            "application/vnd.google.colaboratory.intrinsic+json": {
              "type": "string"
            }
          },
          "metadata": {},
          "execution_count": 23
        }
      ],
      "source": [
        "word[4:7]"
      ]
    },
    {
      "cell_type": "code",
      "execution_count": null,
      "id": "f1b61f31-da3e-42c0-9246-e9793b3ab309",
      "metadata": {
        "colab": {
          "base_uri": "https://localhost:8080/",
          "height": 42
        },
        "id": "f1b61f31-da3e-42c0-9246-e9793b3ab309",
        "outputId": "78962581-2073-4d9f-ff72-696a1a23b314"
      },
      "outputs": [
        {
          "output_type": "execute_result",
          "data": {
            "text/plain": [
              "'noitasilatigiD'"
            ],
            "application/vnd.google.colaboratory.intrinsic+json": {
              "type": "string"
            }
          },
          "metadata": {},
          "execution_count": 24
        }
      ],
      "source": [
        "word[::-1]"
      ]
    },
    {
      "cell_type": "markdown",
      "id": "d5c4846a-306f-4130-9e26-db3a3d38b27c",
      "metadata": {
        "id": "d5c4846a-306f-4130-9e26-db3a3d38b27c"
      },
      "source": [
        "Dans l'indexation, la limite inférieure de l'intervalle est toujours incluse mais la limite supérieure n'est pas incluse."
      ]
    },
    {
      "cell_type": "markdown",
      "id": "46ec7195-20a3-4e76-a450-c3307eee51ff",
      "metadata": {
        "id": "46ec7195-20a3-4e76-a450-c3307eee51ff"
      },
      "source": [
        "### ***Exercice d'application***\n",
        "\n",
        "Déclarez la variable City = 'San Francisco'\n",
        "\n",
        "Récupérez les mots 'San' et 'Francis' en utilisant l'indexation\n",
        "\n",
        "Récupérez les 4 premiers éléments et les 4 derniers éléménts de San Francisco\n",
        "\n",
        "Quelle est la différence entre 'San' et 'San ' ?\n"
      ]
    },
    {
      "cell_type": "markdown",
      "id": "964bbe3d-0711-40ff-a821-cc2aba1e2c97",
      "metadata": {
        "id": "964bbe3d-0711-40ff-a821-cc2aba1e2c97"
      },
      "source": [
        "## 3 - Listes\n",
        "\n",
        "La liste est l’une des structures permettant de stocker des données. Elle peut contenir des chaînes de caractères, des nombres, des booléens, d’autres listes ainsi que d’autres types de structure de données."
      ]
    },
    {
      "cell_type": "code",
      "source": [
        "l = []"
      ],
      "metadata": {
        "id": "2QEb3zAyeTx4"
      },
      "id": "2QEb3zAyeTx4",
      "execution_count": null,
      "outputs": []
    },
    {
      "cell_type": "code",
      "execution_count": null,
      "id": "4dbdfbb9-b410-4f83-b303-9e1507c92718",
      "metadata": {
        "id": "4dbdfbb9-b410-4f83-b303-9e1507c92718"
      },
      "outputs": [],
      "source": [
        "names = ['diallo', 'bah', 'barry', 'sow', 'keita']"
      ]
    },
    {
      "cell_type": "code",
      "execution_count": null,
      "id": "837ea15e-cf0c-46b2-809e-aa8cc01bdb61",
      "metadata": {
        "colab": {
          "base_uri": "https://localhost:8080/"
        },
        "id": "837ea15e-cf0c-46b2-809e-aa8cc01bdb61",
        "outputId": "66ce1974-a620-4d2f-e375-4f6ab71f751e"
      },
      "outputs": [
        {
          "output_type": "execute_result",
          "data": {
            "text/plain": [
              "['diallo', 'bah', 'barry', 'sow', 'keita']"
            ]
          },
          "metadata": {},
          "execution_count": 27
        }
      ],
      "source": [
        "names"
      ]
    },
    {
      "cell_type": "code",
      "execution_count": null,
      "id": "b6005512-6916-4424-bb27-24e7642b534e",
      "metadata": {
        "id": "b6005512-6916-4424-bb27-24e7642b534e",
        "outputId": "5a57750a-c520-4589-f8d2-6a75675f786a"
      },
      "outputs": [
        {
          "data": {
            "text/plain": [
              "['diallo', 'bah', 'barry', 'sow', 'keita', 'viande', 'sucre']"
            ]
          },
          "execution_count": 68,
          "metadata": {},
          "output_type": "execute_result"
        }
      ],
      "source": [
        "# Combiner des listes\n",
        "l = names + ['viande', 'sucre']\n",
        "l"
      ]
    },
    {
      "cell_type": "code",
      "execution_count": null,
      "id": "47404e3b-3d1d-4fc3-9eed-89c9a0b50801",
      "metadata": {
        "id": "47404e3b-3d1d-4fc3-9eed-89c9a0b50801",
        "outputId": "a90deac0-9960-4feb-df34-1c5061a221bc"
      },
      "outputs": [
        {
          "data": {
            "text/plain": [
              "1"
            ]
          },
          "execution_count": 39,
          "metadata": {},
          "output_type": "execute_result"
        }
      ],
      "source": [
        "names.index('bah')"
      ]
    },
    {
      "cell_type": "markdown",
      "id": "c0408fa0-7627-4bb4-a185-4707f1cf81d1",
      "metadata": {
        "id": "c0408fa0-7627-4bb4-a185-4707f1cf81d1"
      },
      "source": [
        "## **Quelques méthodes applicables aux listes**\n",
        "\n",
        "1. index:   Trouvez la position d'un élément dans une liste avec la méthode .index()\n",
        "2. count: counter le numbre de fois l'element existe dans la liste\n",
        "3. append: Ajouter un element a la fin de la liste\n",
        "4. extend: Elargire la liste c'est a dire ajoute plusieure elements en meme temps.\n",
        "5. insert: inserez un element dans la liste sur un index specifique\n",
        "6. sort: arranger les elements de la liste\n",
        "7. reverse: inverser la liste\n",
        "8. min: Trouvez le minimum parmis tous les elements de la liste\n",
        "9. max: Trouvez le maximum parmis les elements\n",
        "10. sum: Trouverz la somme des elements\n",
        "11. join:\n",
        "12. pop: Supprimer un élément d'une liste avec la méthode .pop\n",
        "13. remove: Supprimer un élément d'une liste avec specifique index\n"
      ]
    },
    {
      "cell_type": "code",
      "execution_count": null,
      "id": "c82b4ea7-de16-41df-89a4-c833b8d66931",
      "metadata": {
        "id": "c82b4ea7-de16-41df-89a4-c833b8d66931"
      },
      "outputs": [],
      "source": [
        "li = [1, 2, '3']"
      ]
    },
    {
      "cell_type": "code",
      "execution_count": null,
      "id": "dfa752a9-2bf9-4f04-b2a5-f9da0f1bac01",
      "metadata": {
        "colab": {
          "base_uri": "https://localhost:8080/"
        },
        "id": "dfa752a9-2bf9-4f04-b2a5-f9da0f1bac01",
        "outputId": "fcbf950a-6953-4c3a-877c-16896361d816"
      },
      "outputs": [
        {
          "output_type": "execute_result",
          "data": {
            "text/plain": [
              "2"
            ]
          },
          "metadata": {},
          "execution_count": 29
        }
      ],
      "source": [
        "# utilisation de index\n",
        "\n",
        "li.index('3')"
      ]
    },
    {
      "cell_type": "code",
      "execution_count": null,
      "id": "2bfdf813-4d8b-48bd-82a7-48188e567c5d",
      "metadata": {
        "colab": {
          "base_uri": "https://localhost:8080/"
        },
        "id": "2bfdf813-4d8b-48bd-82a7-48188e567c5d",
        "outputId": "e6d0eb5e-d20b-4ded-8ad3-d4328bf6150a"
      },
      "outputs": [
        {
          "output_type": "execute_result",
          "data": {
            "text/plain": [
              "1"
            ]
          },
          "metadata": {},
          "execution_count": 30
        }
      ],
      "source": [
        "# utilisation de count pour comprendre le numbere de fois element exist\n",
        "li.count(2)"
      ]
    },
    {
      "cell_type": "code",
      "execution_count": null,
      "id": "fe50fd82-a121-4c99-b17a-9f908089a33f",
      "metadata": {
        "id": "fe50fd82-a121-4c99-b17a-9f908089a33f"
      },
      "outputs": [],
      "source": [
        "# Quelle est le resulat de ce code snippet"
      ]
    },
    {
      "cell_type": "code",
      "execution_count": null,
      "id": "da39aa1d-f136-42d5-9ff4-580019cfb20f",
      "metadata": {
        "colab": {
          "base_uri": "https://localhost:8080/"
        },
        "id": "da39aa1d-f136-42d5-9ff4-580019cfb20f",
        "outputId": "6e70dd1e-b0ab-4fde-95da-c4ee843231dd"
      },
      "outputs": [
        {
          "output_type": "execute_result",
          "data": {
            "text/plain": [
              "[1, 2, '3', 3]"
            ]
          },
          "metadata": {},
          "execution_count": 32
        }
      ],
      "source": [
        "li + [3]"
      ]
    },
    {
      "cell_type": "code",
      "execution_count": null,
      "id": "91c8a21f-4937-4561-99ab-f3486b2dbeb4",
      "metadata": {
        "id": "91c8a21f-4937-4561-99ab-f3486b2dbeb4"
      },
      "outputs": [],
      "source": [
        "li.extend([10,20, 'ODC'])"
      ]
    },
    {
      "cell_type": "code",
      "execution_count": null,
      "id": "d6aac187-42ca-4469-bcb8-a5391a1f83f9",
      "metadata": {
        "colab": {
          "base_uri": "https://localhost:8080/"
        },
        "id": "d6aac187-42ca-4469-bcb8-a5391a1f83f9",
        "outputId": "36014d34-180f-4083-8613-d08045b29c5f"
      },
      "outputs": [
        {
          "output_type": "execute_result",
          "data": {
            "text/plain": [
              "[1, 2, '3', 10, 20, 'ODC']"
            ]
          },
          "metadata": {},
          "execution_count": 34
        }
      ],
      "source": [
        "li"
      ]
    },
    {
      "cell_type": "code",
      "execution_count": null,
      "id": "1eec94ec-0ace-492b-9357-582b2528feb4",
      "metadata": {
        "colab": {
          "base_uri": "https://localhost:8080/",
          "height": 42
        },
        "id": "1eec94ec-0ace-492b-9357-582b2528feb4",
        "outputId": "1b513bd4-4de2-4818-f61c-7e51073c9297"
      },
      "outputs": [
        {
          "output_type": "execute_result",
          "data": {
            "text/plain": [
              "'ODC'"
            ],
            "application/vnd.google.colaboratory.intrinsic+json": {
              "type": "string"
            }
          },
          "metadata": {},
          "execution_count": 35
        }
      ],
      "source": [
        "li.pop()"
      ]
    },
    {
      "cell_type": "code",
      "execution_count": null,
      "id": "d76c2f41-704a-4fee-8c05-9d3697d906f3",
      "metadata": {
        "id": "d76c2f41-704a-4fee-8c05-9d3697d906f3",
        "outputId": "9071cdf1-9ae5-4747-f2db-14f0d7a3de58"
      },
      "outputs": [
        {
          "data": {
            "text/plain": [
              "'AB'"
            ]
          },
          "execution_count": 52,
          "metadata": {},
          "output_type": "execute_result"
        }
      ],
      "source": [
        "''.join(['A', 'B'])"
      ]
    },
    {
      "cell_type": "code",
      "source": [
        "mylist = [3,5,7,12,2]\n",
        "mylist"
      ],
      "metadata": {
        "colab": {
          "base_uri": "https://localhost:8080/"
        },
        "id": "3oCFf_xDjPb2",
        "outputId": "299590e4-71e0-44f3-8686-b053e5f2ec37"
      },
      "id": "3oCFf_xDjPb2",
      "execution_count": null,
      "outputs": [
        {
          "output_type": "execute_result",
          "data": {
            "text/plain": [
              "[3, 5, 7, 12, 2]"
            ]
          },
          "metadata": {},
          "execution_count": 36
        }
      ]
    },
    {
      "cell_type": "code",
      "source": [
        "max(mylist)"
      ],
      "metadata": {
        "colab": {
          "base_uri": "https://localhost:8080/"
        },
        "id": "psJ5e0kOjPXv",
        "outputId": "81bcba07-00ac-4000-f2d8-9032dfdc1d21"
      },
      "id": "psJ5e0kOjPXv",
      "execution_count": null,
      "outputs": [
        {
          "output_type": "execute_result",
          "data": {
            "text/plain": [
              "12"
            ]
          },
          "metadata": {},
          "execution_count": 38
        }
      ]
    },
    {
      "cell_type": "code",
      "source": [
        "min(mylist)"
      ],
      "metadata": {
        "colab": {
          "base_uri": "https://localhost:8080/"
        },
        "id": "0WcfQ558jPPw",
        "outputId": "befbe622-987f-4c54-9c10-07ea72f58e68"
      },
      "id": "0WcfQ558jPPw",
      "execution_count": null,
      "outputs": [
        {
          "output_type": "execute_result",
          "data": {
            "text/plain": [
              "2"
            ]
          },
          "metadata": {},
          "execution_count": 39
        }
      ]
    },
    {
      "cell_type": "code",
      "source": [
        "sum(mylist)"
      ],
      "metadata": {
        "colab": {
          "base_uri": "https://localhost:8080/"
        },
        "id": "DkYP4a2ljPI5",
        "outputId": "32bd964d-3364-4a48-a2a4-1ff5a3471695"
      },
      "id": "DkYP4a2ljPI5",
      "execution_count": null,
      "outputs": [
        {
          "output_type": "execute_result",
          "data": {
            "text/plain": [
              "29"
            ]
          },
          "metadata": {},
          "execution_count": 40
        }
      ]
    },
    {
      "cell_type": "code",
      "source": [
        "sum(mylist)/len(mylist)"
      ],
      "metadata": {
        "colab": {
          "base_uri": "https://localhost:8080/"
        },
        "id": "YFFOAaPMjPEt",
        "outputId": "e4da74db-2e12-4b9a-b029-9e59fc5a069d"
      },
      "id": "YFFOAaPMjPEt",
      "execution_count": null,
      "outputs": [
        {
          "output_type": "execute_result",
          "data": {
            "text/plain": [
              "5.8"
            ]
          },
          "metadata": {},
          "execution_count": 42
        }
      ]
    },
    {
      "cell_type": "code",
      "source": [],
      "metadata": {
        "id": "G6GGwCJwjOXf"
      },
      "id": "G6GGwCJwjOXf",
      "execution_count": null,
      "outputs": []
    },
    {
      "cell_type": "markdown",
      "id": "cdcd3fd6-bd41-40d3-8a4b-3bd325d30a76",
      "metadata": {
        "id": "cdcd3fd6-bd41-40d3-8a4b-3bd325d30a76"
      },
      "source": [
        "Les listes sont des objets python itérables.\n",
        "\n",
        "## Exo:\n",
        "\n",
        "Vous êtes professeur dans une classe qui compte 5 élèves et vous voulez effectuer une petite étude sur l'âge de vos élèves.\n",
        "Ecrivez un petit programme qui demande à chaque élève de rentrer son âge dans une liste. Calculez l'âge moyen, l'âge médian, l'âge minimum et l'âge maximum de votre effectif.\n"
      ]
    },
    {
      "cell_type": "raw",
      "id": "ff152fb5-7b45-4f9c-9ea3-984d7d9ec01f",
      "metadata": {
        "id": "ff152fb5-7b45-4f9c-9ea3-984d7d9ec01f"
      },
      "source": [
        "# Résolution\n",
        "\n",
        "n = 5 # effectif de la classe\n",
        "age_list = []\n",
        "\n",
        "for i in range(5):\n",
        "    print('Quel est votre âge ?')\n",
        "    age = int(input())\n",
        "    age_list.append(age)\n",
        "\n",
        "age_list"
      ]
    },
    {
      "cell_type": "markdown",
      "id": "05b2292c-bb01-45e5-8766-46150c962842",
      "metadata": {
        "id": "05b2292c-bb01-45e5-8766-46150c962842"
      },
      "source": [
        "## Conditions\n",
        "\n",
        "1. if\n",
        "2. else\n",
        "3. elif"
      ]
    },
    {
      "cell_type": "code",
      "execution_count": null,
      "id": "1805b074-c0fc-4b89-bc6e-a85ab432d9ba",
      "metadata": {
        "colab": {
          "base_uri": "https://localhost:8080/"
        },
        "id": "1805b074-c0fc-4b89-bc6e-a85ab432d9ba",
        "outputId": "fa37fbb1-8c40-4c29-eaad-0440ad854651"
      },
      "outputs": [
        {
          "output_type": "stream",
          "name": "stdout",
          "text": [
            "5 est inferieur\n"
          ]
        }
      ],
      "source": [
        "a = 5\n",
        "if a > 10:\n",
        "    print(\"5 est superieur a 10\")\n",
        "else:\n",
        "    print(\"5 est inferieur\")"
      ]
    },
    {
      "cell_type": "markdown",
      "id": "2d58faf4-da12-4948-bcd3-fdad4461202c",
      "metadata": {
        "tags": [],
        "id": "2d58faf4-da12-4948-bcd3-fdad4461202c"
      },
      "source": [
        "##  Demo with elif\n",
        "\n",
        "Ecrire un programme pour demande un utilisateur d'entrer son niveau d'etude et vous aller afficher les message suivants:\n",
        "1. license --> debutant\n",
        "2. masters --> intermediate\n",
        "3. doctorat --> avance"
      ]
    },
    {
      "cell_type": "code",
      "execution_count": null,
      "id": "b679b89b-8711-4041-bb1f-1ab404c40c63",
      "metadata": {
        "colab": {
          "base_uri": "https://localhost:8080/"
        },
        "id": "b679b89b-8711-4041-bb1f-1ab404c40c63",
        "outputId": "7ab3afb0-940d-4007-dddc-c66c96122052"
      },
      "outputs": [
        {
          "output_type": "stream",
          "name": "stdout",
          "text": [
            "Donner le niveau: doctorat\n",
            "Avance\n"
          ]
        }
      ],
      "source": [
        "niveau = input(\"Donner le niveau: \")\n",
        "if niveau == 'licence':\n",
        "    print(\"Debutant\")\n",
        "elif niveau == 'master':\n",
        "    print(\"Intermediaire\")\n",
        "else:\n",
        "    print(\"Avance\")"
      ]
    },
    {
      "cell_type": "markdown",
      "id": "8ad076a1-c48e-488a-9827-142eb46f03db",
      "metadata": {
        "id": "8ad076a1-c48e-488a-9827-142eb46f03db"
      },
      "source": [
        "# Liste de comprehension"
      ]
    },
    {
      "cell_type": "code",
      "execution_count": null,
      "id": "e2d03738-f7cd-49dd-9d80-4d41e5e683fa",
      "metadata": {
        "colab": {
          "base_uri": "https://localhost:8080/"
        },
        "id": "e2d03738-f7cd-49dd-9d80-4d41e5e683fa",
        "outputId": "88e37a97-3044-4eb1-aca0-b4d3b786637e"
      },
      "outputs": [
        {
          "output_type": "execute_result",
          "data": {
            "text/plain": [
              "[0, 1, 2, 3, 4, 5, 6, 7, 8, 9]"
            ]
          },
          "metadata": {},
          "execution_count": 46
        }
      ],
      "source": [
        "a = list(range(10))\n",
        "\n",
        "a"
      ]
    },
    {
      "cell_type": "code",
      "execution_count": null,
      "id": "0b7da956-a316-4897-a52d-f7c6f03405f5",
      "metadata": {
        "id": "0b7da956-a316-4897-a52d-f7c6f03405f5",
        "outputId": "cb3730bb-d205-4e58-d046-8eeac30c1b16"
      },
      "outputs": [
        {
          "data": {
            "text/plain": [
              "[0, 1, 4, 9, 16, 25, 36, 49, 64, 81]"
            ]
          },
          "execution_count": 62,
          "metadata": {},
          "output_type": "execute_result"
        }
      ],
      "source": [
        "double_a = [i**2 for i in a]\n",
        "double_a"
      ]
    },
    {
      "cell_type": "code",
      "source": [
        "ll = list(range(100))"
      ],
      "metadata": {
        "id": "1nH4mEQvo6X-"
      },
      "id": "1nH4mEQvo6X-",
      "execution_count": null,
      "outputs": []
    },
    {
      "cell_type": "code",
      "source": [
        "divisible_5 = [i for i in ll if i%5==0]\n",
        "divisible_5"
      ],
      "metadata": {
        "colab": {
          "base_uri": "https://localhost:8080/"
        },
        "id": "qjI5j96fpFSP",
        "outputId": "96d3e131-a5de-4554-ac95-fabe09e87a56"
      },
      "id": "qjI5j96fpFSP",
      "execution_count": null,
      "outputs": [
        {
          "output_type": "execute_result",
          "data": {
            "text/plain": [
              "[0, 5, 10, 15, 20, 25, 30, 35, 40, 45, 50, 55, 60, 65, 70, 75, 80, 85, 90, 95]"
            ]
          },
          "metadata": {},
          "execution_count": 48
        }
      ]
    },
    {
      "cell_type": "code",
      "source": [],
      "metadata": {
        "id": "F_-COmhIpFPv"
      },
      "id": "F_-COmhIpFPv",
      "execution_count": null,
      "outputs": []
    },
    {
      "cell_type": "code",
      "source": [],
      "metadata": {
        "id": "088UuswDpFG4"
      },
      "id": "088UuswDpFG4",
      "execution_count": null,
      "outputs": []
    },
    {
      "cell_type": "markdown",
      "id": "618710ee-09b9-41d6-8801-a0242a2db014",
      "metadata": {
        "id": "618710ee-09b9-41d6-8801-a0242a2db014"
      },
      "source": [
        "# Exo\n",
        "Trouver les numbers entre 0 a 10 qui son unpaire en utilisant liste comprehension"
      ]
    },
    {
      "cell_type": "code",
      "execution_count": null,
      "id": "f6b21c31-8b8e-4eaf-8177-d81cc8e17e02",
      "metadata": {
        "id": "f6b21c31-8b8e-4eaf-8177-d81cc8e17e02"
      },
      "outputs": [],
      "source": [
        "# exo list comprehension"
      ]
    },
    {
      "cell_type": "code",
      "execution_count": null,
      "id": "c0c4246e-ca09-4504-99a7-2094add25ea3",
      "metadata": {
        "colab": {
          "base_uri": "https://localhost:8080/"
        },
        "id": "c0c4246e-ca09-4504-99a7-2094add25ea3",
        "outputId": "75c7c08a-ff28-4646-da67-bd725d0aaa9b"
      },
      "outputs": [
        {
          "output_type": "execute_result",
          "data": {
            "text/plain": [
              "['Bah', 'Barry', 'Balde']"
            ]
          },
          "metadata": {},
          "execution_count": 49
        }
      ],
      "source": [
        "noms = ['bah', 'barry', 'balde']\n",
        "noms_ = [p.capitalize() for p in noms]\n",
        "\n",
        "noms_"
      ]
    },
    {
      "cell_type": "code",
      "execution_count": null,
      "id": "a8efa922-9269-4584-aef9-6b41b64a68b2",
      "metadata": {
        "id": "a8efa922-9269-4584-aef9-6b41b64a68b2"
      },
      "outputs": [],
      "source": []
    },
    {
      "cell_type": "markdown",
      "id": "e65460f8-07b1-4ae1-bb28-5c95f711485e",
      "metadata": {
        "id": "e65460f8-07b1-4ae1-bb28-5c95f711485e"
      },
      "source": [
        "## Boucle\n",
        "\n",
        "1. for\n",
        "2. while"
      ]
    },
    {
      "cell_type": "code",
      "execution_count": null,
      "id": "dc4b8479-ce9b-4f32-b3f6-6bac7a01bd6b",
      "metadata": {
        "colab": {
          "base_uri": "https://localhost:8080/"
        },
        "id": "dc4b8479-ce9b-4f32-b3f6-6bac7a01bd6b",
        "outputId": "bc00645e-1469-407d-9474-a37c231d65a3"
      },
      "outputs": [
        {
          "output_type": "stream",
          "name": "stdout",
          "text": [
            "0\n",
            "1\n",
            "2\n",
            "3\n",
            "4\n",
            "5\n",
            "6\n",
            "7\n",
            "8\n",
            "9\n"
          ]
        }
      ],
      "source": [
        "for i in range(10):\n",
        "    print(i)"
      ]
    },
    {
      "cell_type": "code",
      "source": [
        "for i in range(1,11,2):\n",
        "    print(i)"
      ],
      "metadata": {
        "colab": {
          "base_uri": "https://localhost:8080/"
        },
        "id": "f-O3FY5wr0a3",
        "outputId": "6aa53914-c4f1-46b0-d233-b81adfc701e8"
      },
      "id": "f-O3FY5wr0a3",
      "execution_count": null,
      "outputs": [
        {
          "output_type": "stream",
          "name": "stdout",
          "text": [
            "1\n",
            "3\n",
            "5\n",
            "7\n",
            "9\n"
          ]
        }
      ]
    },
    {
      "cell_type": "code",
      "execution_count": null,
      "id": "5ed079dc-afea-4a99-a79b-92669b99063f",
      "metadata": {
        "id": "5ed079dc-afea-4a99-a79b-92669b99063f",
        "outputId": "04e4b133-eff8-4c45-8f4e-b9102a7f6304"
      },
      "outputs": [
        {
          "name": "stdout",
          "output_type": "stream",
          "text": [
            "1\n",
            "2\n",
            "3\n"
          ]
        }
      ],
      "source": [
        "for i in [1, 2, 3]:\n",
        "    print(i)"
      ]
    },
    {
      "cell_type": "code",
      "execution_count": null,
      "id": "482bf870-5993-4e98-9f4d-ecaef49d3448",
      "metadata": {
        "colab": {
          "base_uri": "https://localhost:8080/"
        },
        "id": "482bf870-5993-4e98-9f4d-ecaef49d3448",
        "outputId": "7b70adff-d7e2-42a3-e5c0-425cbd5a0d0c"
      },
      "outputs": [
        {
          "output_type": "stream",
          "name": "stdout",
          "text": [
            "1\n",
            "2\n",
            "3\n",
            "4\n",
            "5\n",
            "6\n",
            "7\n",
            "8\n",
            "9\n"
          ]
        }
      ],
      "source": [
        "# While loop\n",
        "\n",
        "a = 1\n",
        "while a < 10:\n",
        "    print(a)\n",
        "    a += 1"
      ]
    },
    {
      "cell_type": "code",
      "execution_count": null,
      "id": "222d7f4f-0bd2-4304-8e38-9e9f38c002df",
      "metadata": {
        "colab": {
          "base_uri": "https://localhost:8080/"
        },
        "id": "222d7f4f-0bd2-4304-8e38-9e9f38c002df",
        "outputId": "400f86c5-6fbd-435f-a16e-1859b2f278c9"
      },
      "outputs": [
        {
          "output_type": "stream",
          "name": "stdout",
          "text": [
            "0\n",
            "1\n",
            "2\n",
            "3\n",
            "4\n",
            "5\n"
          ]
        }
      ],
      "source": [
        "# Break et continue peut etre utiliser pour stopper l'execution des boucle.\n",
        "\n",
        "for i in range(10):\n",
        "    print(i)\n",
        "    if i == 5:\n",
        "        break\n"
      ]
    },
    {
      "cell_type": "code",
      "execution_count": null,
      "id": "3d80cfc5-6272-402b-8a44-8d4448f323ee",
      "metadata": {
        "colab": {
          "base_uri": "https://localhost:8080/"
        },
        "id": "3d80cfc5-6272-402b-8a44-8d4448f323ee",
        "outputId": "f2f4b705-adec-432b-8715-de728170627c"
      },
      "outputs": [
        {
          "output_type": "stream",
          "name": "stdout",
          "text": [
            "0\n",
            "1\n",
            "2\n",
            "3\n",
            "4\n",
            "5\n",
            "6\n",
            "7\n",
            "8\n",
            "9\n"
          ]
        }
      ],
      "source": [
        "for i in range(10):\n",
        "    print(i)\n",
        "    if i == 5:\n",
        "        continue"
      ]
    },
    {
      "cell_type": "markdown",
      "id": "cf6aefe1-860d-42a0-a7d4-31a3d7dc28ab",
      "metadata": {
        "id": "cf6aefe1-860d-42a0-a7d4-31a3d7dc28ab"
      },
      "source": [
        "# Dictionnaires\n",
        "\n",
        "Le dictionnaire est une collection de paires clé-valeur. C’est une structure populaire de Python qui est un bon moyen de stockage et d’analyse de données. Les clés doivent être uniques.\n",
        "\n",
        "### Voici quelques-unes des méthodes couramment utilisées avec les dictionnaires :\n",
        "* **len**(dictionnaire) : Renvoie le nombre de paires clé-valeur dans le dictionnaire.\n",
        "\n",
        "* **dictionnaire[key] : ** Accède à la valeur associée à la clé donnée dans le dictionnaire.\n",
        "\n",
        "* **dictionnaire[key] = valeur :** Associe une valeur à une clé dans le dictionnaire. Si la clé existe déjà, la valeur existante sera mise à jour.\n",
        "\n",
        "* **del dictionnaire[key] :** Supprime la paire clé-valeur correspondant à la clé spécifiée du dictionnaire.\n",
        "\n",
        "* **dictionnaire.keys() :** Renvoie une vue d'ensemble des clés du dictionnaire.\n",
        "\n",
        "* **dictionnaire.values() :** Renvoie une vue d'ensemble des valeurs du dictionnaire.\n",
        "\n",
        "* **dictionnaire.items() :** Renvoie une vue d'ensemble de toutes les paires clé-valeur du dictionnaire."
      ]
    },
    {
      "cell_type": "code",
      "execution_count": null,
      "id": "75c02b5f-1568-4e3b-aab5-2a9f5504f042",
      "metadata": {
        "colab": {
          "base_uri": "https://localhost:8080/"
        },
        "id": "75c02b5f-1568-4e3b-aab5-2a9f5504f042",
        "outputId": "7ccffbd1-eeb1-40cf-fd8a-5d54b2a59d0b"
      },
      "outputs": [
        {
          "output_type": "execute_result",
          "data": {
            "text/plain": [
              "{'nom': 'Balde', 'prenom': 'Ousmane', 'age': 34, 'pays': 'Guinea'}"
            ]
          },
          "metadata": {},
          "execution_count": 56
        }
      ],
      "source": [
        "# Création d'un dictionnaire avec {}\n",
        "etudiant = {'nom':'Balde', 'prenom': 'Ousmane', 'age':34, 'pays':'Guinea'}\n",
        "etudiant"
      ]
    },
    {
      "cell_type": "code",
      "execution_count": null,
      "id": "29aeb52c-2ea2-4567-b0a0-c0058dfaabde",
      "metadata": {
        "colab": {
          "base_uri": "https://localhost:8080/"
        },
        "id": "29aeb52c-2ea2-4567-b0a0-c0058dfaabde",
        "outputId": "1762a761-404e-45dc-b7a8-d2bf96f6daf3"
      },
      "outputs": [
        {
          "output_type": "execute_result",
          "data": {
            "text/plain": [
              "dict_keys(['nom', 'prenom', 'age', 'pays'])"
            ]
          },
          "metadata": {},
          "execution_count": 57
        }
      ],
      "source": [
        "etudiant.keys()"
      ]
    },
    {
      "cell_type": "code",
      "execution_count": null,
      "id": "17aa33d4-4a2d-421e-ad40-6501a829fd4a",
      "metadata": {
        "id": "17aa33d4-4a2d-421e-ad40-6501a829fd4a",
        "outputId": "d5f49afe-9cbe-4935-fd97-58ee68c69797"
      },
      "outputs": [
        {
          "data": {
            "text/plain": [
              "dict_values(['Balde', 'Ousmane', 34, 'Guinea'])"
            ]
          },
          "execution_count": 3,
          "metadata": {},
          "output_type": "execute_result"
        }
      ],
      "source": [
        "etudiant.values()"
      ]
    },
    {
      "cell_type": "code",
      "execution_count": null,
      "id": "cfccb8f4-c9e8-4127-8881-0d51984ddbb2",
      "metadata": {
        "id": "cfccb8f4-c9e8-4127-8881-0d51984ddbb2",
        "outputId": "c77f9015-8e1f-4b09-cad2-c472f73c69e8"
      },
      "outputs": [
        {
          "data": {
            "text/plain": [
              "{'nom': 'Balde', 'prenom': 'Ousmane', 'age': 25, 'pays': 'Guinea'}"
            ]
          },
          "execution_count": 4,
          "metadata": {},
          "output_type": "execute_result"
        }
      ],
      "source": [
        "# Chanage la valeur de la cle age\n",
        "etudiant['age'] = 25\n",
        "\n",
        "etudiant"
      ]
    },
    {
      "cell_type": "code",
      "execution_count": null,
      "id": "6e7b3110-a25c-4b87-836b-685c831adf4f",
      "metadata": {
        "id": "6e7b3110-a25c-4b87-836b-685c831adf4f",
        "outputId": "7c9f85c7-9af8-4bd8-9ccc-eb016afbc143"
      },
      "outputs": [
        {
          "data": {
            "text/plain": [
              "dict_items([('nom', 'Balde'), ('prenom', 'Ousmane'), ('age', 25), ('pays', 'Guinea')])"
            ]
          },
          "execution_count": 6,
          "metadata": {},
          "output_type": "execute_result"
        }
      ],
      "source": [
        "# utilisation de items\n",
        "etudiant.items()"
      ]
    },
    {
      "cell_type": "code",
      "execution_count": null,
      "id": "304ab116-0844-40a3-b447-744a50abfa17",
      "metadata": {
        "id": "304ab116-0844-40a3-b447-744a50abfa17",
        "outputId": "f282b543-6544-4a8f-f099-9a46ff75c331"
      },
      "outputs": [
        {
          "data": {
            "text/plain": [
              "{'nom': 'Balde',\n",
              " 'prenom': 'Ousmane',\n",
              " 'age': 25,\n",
              " 'pays': 'Guinea',\n",
              " 'salaire': 2000}"
            ]
          },
          "execution_count": 7,
          "metadata": {},
          "output_type": "execute_result"
        }
      ],
      "source": [
        "# extension du dictionaire avec l'ajoute du salaire\n",
        "etudiant['salaire'] = 2000\n",
        "\n",
        "etudiant"
      ]
    },
    {
      "cell_type": "code",
      "execution_count": null,
      "id": "1b03c75b-cb34-4698-bc89-8ef64305b537",
      "metadata": {
        "id": "1b03c75b-cb34-4698-bc89-8ef64305b537",
        "outputId": "5d74a94e-73e2-4342-e97e-a5a42f2e004a"
      },
      "outputs": [
        {
          "data": {
            "text/plain": [
              "False"
            ]
          },
          "execution_count": 8,
          "metadata": {},
          "output_type": "execute_result"
        }
      ],
      "source": []
    },
    {
      "cell_type": "code",
      "execution_count": null,
      "id": "aa6e0d79-176d-438d-ae38-5863e6a7b618",
      "metadata": {
        "id": "aa6e0d79-176d-438d-ae38-5863e6a7b618",
        "outputId": "d7a3f560-e5f3-4331-cb3f-1a3679236210"
      },
      "outputs": [
        {
          "data": {
            "text/plain": [
              "False"
            ]
          },
          "execution_count": 9,
          "metadata": {},
          "output_type": "execute_result"
        }
      ],
      "source": []
    },
    {
      "cell_type": "markdown",
      "id": "190ea227-79ef-4876-8275-a53453463fea",
      "metadata": {
        "id": "190ea227-79ef-4876-8275-a53453463fea"
      },
      "source": [
        "# Tuplets\n",
        "\n",
        "## Les methodes disponible pour tuplets:\n",
        "1. count\n",
        "2. index"
      ]
    },
    {
      "cell_type": "code",
      "execution_count": null,
      "id": "ed532e05-7dcf-47e0-b510-8d943726ec75",
      "metadata": {
        "id": "ed532e05-7dcf-47e0-b510-8d943726ec75"
      },
      "outputs": [],
      "source": [
        "# tuplets vide\n",
        "t = ()\n",
        "\n",
        "tt = (1,2,3,4)"
      ]
    },
    {
      "cell_type": "code",
      "execution_count": null,
      "id": "b818c36b-7b65-4fa7-88ef-9c1efb874621",
      "metadata": {
        "id": "b818c36b-7b65-4fa7-88ef-9c1efb874621"
      },
      "outputs": [],
      "source": [
        "tt."
      ]
    },
    {
      "cell_type": "code",
      "execution_count": null,
      "id": "2d995dba-71ec-413b-97c8-ec6ddc4f162d",
      "metadata": {
        "id": "2d995dba-71ec-413b-97c8-ec6ddc4f162d"
      },
      "outputs": [],
      "source": []
    },
    {
      "cell_type": "code",
      "execution_count": null,
      "id": "0bb550fa-291d-4681-88f2-f389baba9b5c",
      "metadata": {
        "id": "0bb550fa-291d-4681-88f2-f389baba9b5c"
      },
      "outputs": [],
      "source": []
    },
    {
      "cell_type": "markdown",
      "id": "fbc04f96-54a0-4747-acff-971e43e6fb97",
      "metadata": {
        "id": "fbc04f96-54a0-4747-acff-971e43e6fb97"
      },
      "source": [
        "# Fonction"
      ]
    },
    {
      "cell_type": "code",
      "execution_count": null,
      "id": "34dc9daf-19f3-4d80-8cf8-a9d1218c92e7",
      "metadata": {
        "id": "34dc9daf-19f3-4d80-8cf8-a9d1218c92e7"
      },
      "outputs": [],
      "source": [
        "def add(a, b):\n",
        "    '''Function our additione deux number a et b'''\n",
        "    return a + b"
      ]
    },
    {
      "cell_type": "code",
      "execution_count": null,
      "id": "bb4262f0-75e2-46db-9793-08c6a516c34d",
      "metadata": {
        "id": "bb4262f0-75e2-46db-9793-08c6a516c34d",
        "outputId": "3ac1cc74-4a4e-4f4c-f768-37badf63511c"
      },
      "outputs": [
        {
          "data": {
            "text/plain": [
              "10"
            ]
          },
          "execution_count": 8,
          "metadata": {},
          "output_type": "execute_result"
        }
      ],
      "source": [
        "# Appel de la fonction\n",
        "add(2, 8)"
      ]
    },
    {
      "cell_type": "code",
      "execution_count": null,
      "id": "c3aeb618-cbad-4f43-be06-a50485384f54",
      "metadata": {
        "id": "c3aeb618-cbad-4f43-be06-a50485384f54"
      },
      "outputs": [],
      "source": [
        "# ecrire une fonction pour determiner si un numbre est paire ou unpaire?"
      ]
    },
    {
      "cell_type": "code",
      "execution_count": null,
      "id": "831d5195-74b7-458e-a8b6-8db58ea9f966",
      "metadata": {
        "id": "831d5195-74b7-458e-a8b6-8db58ea9f966"
      },
      "outputs": [],
      "source": []
    },
    {
      "cell_type": "code",
      "execution_count": null,
      "id": "86655308-5290-4bbf-8688-8a74708d69d4",
      "metadata": {
        "id": "86655308-5290-4bbf-8688-8a74708d69d4",
        "outputId": "f02b8f50-a400-46de-856d-b3e2f2d5e031"
      },
      "outputs": [
        {
          "name": "stdout",
          "output_type": "stream",
          "text": [
            "24\n"
          ]
        }
      ],
      "source": [
        "# Ecrie une functin pour trouver le factorial d'un number\n",
        "\n",
        "\n"
      ]
    },
    {
      "cell_type": "markdown",
      "id": "1e69254e-e1ee-454d-9831-f540d803d4ec",
      "metadata": {
        "id": "1e69254e-e1ee-454d-9831-f540d803d4ec"
      },
      "source": [
        "# Introduction au different modules du python pour faire du IA"
      ]
    },
    {
      "cell_type": "markdown",
      "id": "33a9a0e7-506a-4dbf-9a51-c3485713e05f",
      "metadata": {
        "id": "33a9a0e7-506a-4dbf-9a51-c3485713e05f"
      },
      "source": [
        "Voici une liste de quelque Libraries de python qu'on va utiliser lors de cette formation.\n",
        "\n",
        "1. [Numpy](https://numpy.org/doc/stable/user/absolute_beginners.html):\n",
        "2. [Pandas](https://pandas.pydata.org/)\n",
        "3. [scikit-learn](https://scikit-learn.org/stable/index.html)\n",
        "4. [matplotlib](https://matplotlib.org/)\n",
        "6. [seaborn](https://seaborn.pydata.org/)\n",
        "7. [plotly](https://plotly.com/python/)\n",
        "8. [fastai](https://docs.fast.ai/)\n",
        "8. [pytorch or Tensoflow](https://pytorch.org/)"
      ]
    },
    {
      "cell_type": "markdown",
      "id": "60d3ecad-5e3a-4b0e-b2d3-3608524a2722",
      "metadata": {
        "id": "60d3ecad-5e3a-4b0e-b2d3-3608524a2722"
      },
      "source": [
        "# Introduction au librarie Numpy\n",
        "\n",
        "NumPy (Python numérique) est une bibliothèque Python open source utilisée dans presque tous les domaines de la science et de l'ingénierie. C'est la norme universelle pour travailler avec des données numériques en Python, et c'est au cœur de la science Écosystèmes Python et PyData. Les utilisateurs de NumPy incluent tout le monde depuis les codeurs débutants à des chercheurs expérimentés faisant des études scientifiques et industrielles de pointe recherche et développement. L'API NumPy est largement utilisée dans Pandas, SciPy, Matplotlib, scikit-learn, scikit-image et la plupart des autres données scientifiques et packages scientifiques Python."
      ]
    },
    {
      "cell_type": "markdown",
      "id": "ac62c52d-13a0-485a-9789-9a208e0e0be7",
      "metadata": {
        "id": "ac62c52d-13a0-485a-9789-9a208e0e0be7"
      },
      "source": [
        "**Note:** La bibliothèque NumPy contient des structures de données multidimensionnelles de tableau et de matrice"
      ]
    },
    {
      "cell_type": "markdown",
      "id": "190750c3-bcc9-4f05-9f54-c49721ef1ad3",
      "metadata": {
        "id": "190750c3-bcc9-4f05-9f54-c49721ef1ad3"
      },
      "source": [
        "## Installation de NumPy\n",
        "\n",
        "La bibliotheque est deja disponible avec anaconda mais si vous n'avais pas la biblioteque vous pouvez l'installer avec cette commande via **conda** ou **pip**. <br>\n",
        "</br>\n",
        "``` bash\n",
        "conda install numpy\n",
        "```\n",
        "Ou bien <br>\n",
        "\n",
        "``` bash\n",
        "pip install numpy\n",
        "```\n",
        "\n",
        "\n",
        "\n",
        "\n"
      ]
    },
    {
      "cell_type": "code",
      "execution_count": null,
      "id": "3518511f-d2e4-4bd2-a614-9aeae172702d",
      "metadata": {
        "id": "3518511f-d2e4-4bd2-a614-9aeae172702d"
      },
      "outputs": [],
      "source": [
        "# Pour accéder à NumPy et à ses fonctions, importez-le dans votre code Python comme ceci:\n",
        "\n",
        "import numpy as np"
      ]
    },
    {
      "cell_type": "code",
      "execution_count": null,
      "id": "43d59715-9d24-4e42-ae5d-2e63f9940988",
      "metadata": {
        "id": "43d59715-9d24-4e42-ae5d-2e63f9940988",
        "outputId": "59636be1-eae5-4c27-a571-f22db150df2a"
      },
      "outputs": [
        {
          "data": {
            "text/plain": [
              "array([1, 2, 3, 4, 5, 6, 7, 8, 9])"
            ]
          },
          "execution_count": 33,
          "metadata": {},
          "output_type": "execute_result"
        }
      ],
      "source": [
        "a = np.arange(1,10)\n",
        "a"
      ]
    },
    {
      "cell_type": "code",
      "execution_count": null,
      "id": "55347bb8-e66f-428f-a0d5-06d3d668680e",
      "metadata": {
        "id": "55347bb8-e66f-428f-a0d5-06d3d668680e",
        "outputId": "08b77a24-ad81-4935-d5f0-53d1211a7b75"
      },
      "outputs": [
        {
          "data": {
            "text/plain": [
              "numpy.ndarray"
            ]
          },
          "execution_count": 34,
          "metadata": {},
          "output_type": "execute_result"
        }
      ],
      "source": [
        "# on peut voir le type de donnee avec type\n",
        "type(a)"
      ]
    },
    {
      "cell_type": "markdown",
      "id": "757f2b92-240e-4982-ace7-36225b4f4676",
      "metadata": {
        "id": "757f2b92-240e-4982-ace7-36225b4f4676"
      },
      "source": [
        "##  Quelle est la différence entre une liste Python et un NumPy array?"
      ]
    },
    {
      "cell_type": "markdown",
      "id": "63228d52-779f-43b2-8602-be1bf462e65c",
      "metadata": {
        "id": "63228d52-779f-43b2-8602-be1bf462e65c"
      },
      "source": [
        "En résumé, les tableaux NumPy(numpy array) sont plus adaptés aux calculs numériques et scientifiques, offrant des performances élevées et des fonctionnalités avancées, tandis que les listes Python sont plus flexibles et adaptées à des utilisations générales où la performance n'est pas la priorité absolue."
      ]
    },
    {
      "cell_type": "code",
      "execution_count": null,
      "id": "72d54429-bd23-4c4a-8b9a-715e1ab12a7a",
      "metadata": {
        "id": "72d54429-bd23-4c4a-8b9a-715e1ab12a7a"
      },
      "outputs": [],
      "source": [
        "a = range(20)"
      ]
    },
    {
      "cell_type": "code",
      "execution_count": null,
      "id": "66218f33-9625-4bae-8523-7a26b07525ba",
      "metadata": {
        "id": "66218f33-9625-4bae-8523-7a26b07525ba",
        "outputId": "00bd0adb-345e-4ca8-be41-459c062f3b10"
      },
      "outputs": [
        {
          "data": {
            "text/plain": [
              "[0, 1, 2, 3, 4, 5, 6, 7, 8, 9, 10, 11, 12, 13, 14, 15, 16, 17, 18, 19]"
            ]
          },
          "execution_count": 36,
          "metadata": {},
          "output_type": "execute_result"
        }
      ],
      "source": [
        "l = list(a)\n",
        "l"
      ]
    },
    {
      "cell_type": "code",
      "execution_count": null,
      "id": "3cce5038-fd09-4404-beb7-d86980eaf53e",
      "metadata": {
        "id": "3cce5038-fd09-4404-beb7-d86980eaf53e",
        "outputId": "7c7edb8c-42db-4daa-d0f6-09607300e940"
      },
      "outputs": [
        {
          "data": {
            "text/plain": [
              "array([ 0,  1,  2,  3,  4,  5,  6,  7,  8,  9, 10, 11, 12, 13, 14, 15, 16,\n",
              "       17, 18, 19])"
            ]
          },
          "execution_count": 38,
          "metadata": {},
          "output_type": "execute_result"
        }
      ],
      "source": [
        "arr = np.array(l)\n",
        "arr"
      ]
    },
    {
      "cell_type": "code",
      "execution_count": null,
      "id": "e05e36b5-ac7b-43ca-a91f-b66b95e5cc23",
      "metadata": {
        "id": "e05e36b5-ac7b-43ca-a91f-b66b95e5cc23",
        "outputId": "ac683527-0928-4150-a736-fb18f4380813"
      },
      "outputs": [
        {
          "name": "stdout",
          "output_type": "stream",
          "text": [
            "980 ns ± 9.96 ns per loop (mean ± std. dev. of 7 runs, 1,000,000 loops each)\n"
          ]
        }
      ],
      "source": [
        "%timeit d = [i*2 for i in l]"
      ]
    },
    {
      "cell_type": "code",
      "execution_count": null,
      "id": "c0cb5660-cefb-4822-ae80-8b74f836234b",
      "metadata": {
        "id": "c0cb5660-cefb-4822-ae80-8b74f836234b",
        "outputId": "9a3903c3-ebfd-4d6d-8a8b-b08652eb5125"
      },
      "outputs": [
        {
          "name": "stdout",
          "output_type": "stream",
          "text": [
            "924 ns ± 8.43 ns per loop (mean ± std. dev. of 7 runs, 1,000,000 loops each)\n"
          ]
        }
      ],
      "source": [
        "%timeit arr*2"
      ]
    },
    {
      "cell_type": "code",
      "execution_count": null,
      "id": "a6ef8f53-84cf-4648-8aa3-80af0b6fbf3a",
      "metadata": {
        "id": "a6ef8f53-84cf-4648-8aa3-80af0b6fbf3a",
        "outputId": "57c5a11f-0a21-4fbe-8bcc-1bca9517eb8c"
      },
      "outputs": [
        {
          "data": {
            "text/plain": [
              "int"
            ]
          },
          "execution_count": 49,
          "metadata": {},
          "output_type": "execute_result"
        }
      ],
      "source": []
    }
  ],
  "metadata": {
    "kernelspec": {
      "display_name": "Python 3 (ipykernel)",
      "language": "python",
      "name": "python3"
    },
    "language_info": {
      "codemirror_mode": {
        "name": "ipython",
        "version": 3
      },
      "file_extension": ".py",
      "mimetype": "text/x-python",
      "name": "python",
      "nbconvert_exporter": "python",
      "pygments_lexer": "ipython3",
      "version": "3.9.16"
    },
    "colab": {
      "provenance": []
    }
  },
  "nbformat": 4,
  "nbformat_minor": 5
}